{
 "cells": [
  {
   "cell_type": "markdown",
   "id": "16c62288",
   "metadata": {},
   "source": [
    "# 1) Problem statement.\n"
   ]
  },
  {
   "cell_type": "markdown",
   "id": "08363187",
   "metadata": {},
   "source": [
    "1.This dataset comprises 244 instances that regroup a data of two regions of Algeria, namely the Bejaia region located in the \n",
    "northeast of Algeria and the Sidi Bel-abbes region located in the northwest of Algeria.\n",
    "2.Can get insights from the dataset to know which features have contributed more in predicting Forest fire"
   ]
  },
  {
   "cell_type": "markdown",
   "id": "5a9eaaf2",
   "metadata": {},
   "source": [
    "# 2) Data Collection."
   ]
  },
  {
   "cell_type": "markdown",
   "id": "a2be22ef",
   "metadata": {},
   "source": [
    "\n",
    "1.Dataset used in this particular problem statements was a dataset on Algerian Forest Fires\n",
    "2.The Dataset contain data from June 2012 to September 2012.\n",
    "3.Each dataset contain 122 rows and 14 columns"
   ]
  },
  {
   "cell_type": "markdown",
   "id": "135a1738",
   "metadata": {},
   "source": [
    "#Importing Pandas, Numpy, Matplotlib, Seaborn and Warings Library."
   ]
  },
  {
   "cell_type": "code",
   "execution_count": 274,
   "id": "3f457439",
   "metadata": {},
   "outputs": [],
   "source": [
    "import pandas as pd\n",
    "import numpy as np\n",
    "import matplotlib.pyplot as plt\n",
    "import seaborn as sns\n",
    "import plotly.express as px\n",
    "import warnings\n",
    "\n",
    "warnings.filterwarnings(\"ignore\")\n",
    "\n",
    "%matplotlib inline"
   ]
  },
  {
   "cell_type": "markdown",
   "id": "6947f1ec",
   "metadata": {},
   "source": [
    "# import dataset"
   ]
  },
  {
   "cell_type": "code",
   "execution_count": 275,
   "id": "b01b0432",
   "metadata": {},
   "outputs": [],
   "source": [
    "df=pd.read_csv(\"C:\\Algerian_forest_fires_dataset_UPDATE.csv\")"
   ]
  },
  {
   "cell_type": "markdown",
   "id": "9f8890aa",
   "metadata": {},
   "source": [
    "# Feature Information"
   ]
  },
  {
   "cell_type": "markdown",
   "id": "1f63f0fd",
   "metadata": {},
   "source": [
    "Algerian Forest Fires:\n",
    "\n",
    "1. Date : (DD/MM/YYYY) Day, month ('june' to 'september'), year (2012)\n",
    "\n",
    "2. Temp : temperature noon (temperature max) in Celsius degrees: 22 to 42\n",
    "\n",
    "3. RH : Relative Humidity in %: 21 to 90\n",
    "\n",
    "4. Ws : Wind speed in km/h: 6 to 29\n",
    "\n",
    "5. Rain: total day in mm: 0 to 16.8\n",
    "\n",
    "FWI Components:\n",
    "\n",
    "6. Fine Fuel Moisture Code (FFMC) index from the FWI system: 28.6 to 92.5\n",
    "\n",
    "7. Duff Moisture Code (DMC) index from the FWI system: 1.1 to 65.9\n",
    "\n",
    "8. Drought Code (DC) index from the FWI system: 7 to 220.4\n",
    "\n",
    "9. Initial Spread Index (ISI) index from the FWI system: 0 to 18.5\n",
    "\n",
    "10. Buildup Index (BUI) index from the FWI system: 1.1 to 68\n",
    "\n",
    "11. Fire Weather Index (FWI) Index: 0 to 31.1\n",
    "\n",
    "12. Classes: two classes, namely Fire and not Fire"
   ]
  },
  {
   "cell_type": "markdown",
   "id": "c23968af",
   "metadata": {},
   "source": [
    "Show Top 5 Records"
   ]
  },
  {
   "cell_type": "code",
   "execution_count": 276,
   "id": "7a9953e0",
   "metadata": {},
   "outputs": [
    {
     "data": {
      "text/html": [
       "<div>\n",
       "<style scoped>\n",
       "    .dataframe tbody tr th:only-of-type {\n",
       "        vertical-align: middle;\n",
       "    }\n",
       "\n",
       "    .dataframe tbody tr th {\n",
       "        vertical-align: top;\n",
       "    }\n",
       "\n",
       "    .dataframe thead th {\n",
       "        text-align: right;\n",
       "    }\n",
       "</style>\n",
       "<table border=\"1\" class=\"dataframe\">\n",
       "  <thead>\n",
       "    <tr style=\"text-align: right;\">\n",
       "      <th></th>\n",
       "      <th>day</th>\n",
       "      <th>month</th>\n",
       "      <th>year</th>\n",
       "      <th>Temperature</th>\n",
       "      <th>RH</th>\n",
       "      <th>Ws</th>\n",
       "      <th>Rain</th>\n",
       "      <th>FFMC</th>\n",
       "      <th>DMC</th>\n",
       "      <th>DC</th>\n",
       "      <th>ISI</th>\n",
       "      <th>BUI</th>\n",
       "      <th>FWI</th>\n",
       "      <th>Classes</th>\n",
       "    </tr>\n",
       "  </thead>\n",
       "  <tbody>\n",
       "    <tr>\n",
       "      <th>0</th>\n",
       "      <td>1</td>\n",
       "      <td>6</td>\n",
       "      <td>2012</td>\n",
       "      <td>29</td>\n",
       "      <td>57</td>\n",
       "      <td>18</td>\n",
       "      <td>0</td>\n",
       "      <td>65.7</td>\n",
       "      <td>3.4</td>\n",
       "      <td>7.6</td>\n",
       "      <td>1.3</td>\n",
       "      <td>3.4</td>\n",
       "      <td>0.5</td>\n",
       "      <td>not fire</td>\n",
       "    </tr>\n",
       "    <tr>\n",
       "      <th>1</th>\n",
       "      <td>2</td>\n",
       "      <td>6</td>\n",
       "      <td>2012</td>\n",
       "      <td>29</td>\n",
       "      <td>61</td>\n",
       "      <td>13</td>\n",
       "      <td>1.3</td>\n",
       "      <td>64.4</td>\n",
       "      <td>4.1</td>\n",
       "      <td>7.6</td>\n",
       "      <td>1</td>\n",
       "      <td>3.9</td>\n",
       "      <td>0.4</td>\n",
       "      <td>not fire</td>\n",
       "    </tr>\n",
       "    <tr>\n",
       "      <th>2</th>\n",
       "      <td>3</td>\n",
       "      <td>6</td>\n",
       "      <td>2012</td>\n",
       "      <td>26</td>\n",
       "      <td>82</td>\n",
       "      <td>22</td>\n",
       "      <td>13.1</td>\n",
       "      <td>47.1</td>\n",
       "      <td>2.5</td>\n",
       "      <td>7.1</td>\n",
       "      <td>0.3</td>\n",
       "      <td>2.7</td>\n",
       "      <td>0.1</td>\n",
       "      <td>not fire</td>\n",
       "    </tr>\n",
       "    <tr>\n",
       "      <th>3</th>\n",
       "      <td>4</td>\n",
       "      <td>6</td>\n",
       "      <td>2012</td>\n",
       "      <td>25</td>\n",
       "      <td>89</td>\n",
       "      <td>13</td>\n",
       "      <td>2.5</td>\n",
       "      <td>28.6</td>\n",
       "      <td>1.3</td>\n",
       "      <td>6.9</td>\n",
       "      <td>0</td>\n",
       "      <td>1.7</td>\n",
       "      <td>0</td>\n",
       "      <td>not fire</td>\n",
       "    </tr>\n",
       "    <tr>\n",
       "      <th>4</th>\n",
       "      <td>5</td>\n",
       "      <td>6</td>\n",
       "      <td>2012</td>\n",
       "      <td>27</td>\n",
       "      <td>77</td>\n",
       "      <td>16</td>\n",
       "      <td>0</td>\n",
       "      <td>64.8</td>\n",
       "      <td>3</td>\n",
       "      <td>14.2</td>\n",
       "      <td>1.2</td>\n",
       "      <td>3.9</td>\n",
       "      <td>0.5</td>\n",
       "      <td>not fire</td>\n",
       "    </tr>\n",
       "  </tbody>\n",
       "</table>\n",
       "</div>"
      ],
      "text/plain": [
       "  day month  year Temperature  RH  Ws Rain   FFMC  DMC    DC  ISI  BUI  FWI  \\\n",
       "0   1     6  2012          29  57  18     0  65.7  3.4   7.6  1.3  3.4  0.5   \n",
       "1   2     6  2012          29  61  13   1.3  64.4  4.1   7.6    1  3.9  0.4   \n",
       "2   3     6  2012          26  82  22  13.1  47.1  2.5   7.1  0.3  2.7  0.1   \n",
       "3   4     6  2012          25  89  13   2.5  28.6  1.3   6.9    0  1.7    0   \n",
       "4   5     6  2012          27  77  16     0  64.8    3  14.2  1.2  3.9  0.5   \n",
       "\n",
       "     Classes    \n",
       "0  not fire     \n",
       "1  not fire     \n",
       "2  not fire     \n",
       "3  not fire     \n",
       "4  not fire     "
      ]
     },
     "execution_count": 276,
     "metadata": {},
     "output_type": "execute_result"
    }
   ],
   "source": [
    "df.head()"
   ]
  },
  {
   "cell_type": "markdown",
   "id": "414859b7",
   "metadata": {},
   "source": [
    "Shape of the dataset"
   ]
  },
  {
   "cell_type": "code",
   "execution_count": 277,
   "id": "1a733eba",
   "metadata": {},
   "outputs": [
    {
     "data": {
      "text/plain": [
       "(247, 14)"
      ]
     },
     "execution_count": 277,
     "metadata": {},
     "output_type": "execute_result"
    }
   ],
   "source": [
    "df.shape"
   ]
  },
  {
   "cell_type": "markdown",
   "id": "43403c63",
   "metadata": {},
   "source": [
    "Summary of the dataset"
   ]
  },
  {
   "cell_type": "code",
   "execution_count": 278,
   "id": "6e61c46d",
   "metadata": {},
   "outputs": [
    {
     "data": {
      "text/html": [
       "<div>\n",
       "<style scoped>\n",
       "    .dataframe tbody tr th:only-of-type {\n",
       "        vertical-align: middle;\n",
       "    }\n",
       "\n",
       "    .dataframe tbody tr th {\n",
       "        vertical-align: top;\n",
       "    }\n",
       "\n",
       "    .dataframe thead th {\n",
       "        text-align: right;\n",
       "    }\n",
       "</style>\n",
       "<table border=\"1\" class=\"dataframe\">\n",
       "  <thead>\n",
       "    <tr style=\"text-align: right;\">\n",
       "      <th></th>\n",
       "      <th>day</th>\n",
       "      <th>month</th>\n",
       "      <th>year</th>\n",
       "      <th>Temperature</th>\n",
       "      <th>RH</th>\n",
       "      <th>Ws</th>\n",
       "      <th>Rain</th>\n",
       "      <th>FFMC</th>\n",
       "      <th>DMC</th>\n",
       "      <th>DC</th>\n",
       "      <th>ISI</th>\n",
       "      <th>BUI</th>\n",
       "      <th>FWI</th>\n",
       "      <th>Classes</th>\n",
       "    </tr>\n",
       "  </thead>\n",
       "  <tbody>\n",
       "    <tr>\n",
       "      <th>count</th>\n",
       "      <td>246</td>\n",
       "      <td>245</td>\n",
       "      <td>245</td>\n",
       "      <td>245</td>\n",
       "      <td>245</td>\n",
       "      <td>245</td>\n",
       "      <td>245</td>\n",
       "      <td>245</td>\n",
       "      <td>245</td>\n",
       "      <td>245</td>\n",
       "      <td>245</td>\n",
       "      <td>245</td>\n",
       "      <td>245</td>\n",
       "      <td>244</td>\n",
       "    </tr>\n",
       "    <tr>\n",
       "      <th>unique</th>\n",
       "      <td>33</td>\n",
       "      <td>5</td>\n",
       "      <td>2</td>\n",
       "      <td>20</td>\n",
       "      <td>63</td>\n",
       "      <td>19</td>\n",
       "      <td>40</td>\n",
       "      <td>174</td>\n",
       "      <td>167</td>\n",
       "      <td>199</td>\n",
       "      <td>107</td>\n",
       "      <td>175</td>\n",
       "      <td>127</td>\n",
       "      <td>9</td>\n",
       "    </tr>\n",
       "    <tr>\n",
       "      <th>top</th>\n",
       "      <td>1</td>\n",
       "      <td>7</td>\n",
       "      <td>2012</td>\n",
       "      <td>35</td>\n",
       "      <td>64</td>\n",
       "      <td>14</td>\n",
       "      <td>0</td>\n",
       "      <td>88.9</td>\n",
       "      <td>7.9</td>\n",
       "      <td>8</td>\n",
       "      <td>1.1</td>\n",
       "      <td>3</td>\n",
       "      <td>0.4</td>\n",
       "      <td>fire</td>\n",
       "    </tr>\n",
       "    <tr>\n",
       "      <th>freq</th>\n",
       "      <td>8</td>\n",
       "      <td>62</td>\n",
       "      <td>244</td>\n",
       "      <td>29</td>\n",
       "      <td>10</td>\n",
       "      <td>43</td>\n",
       "      <td>133</td>\n",
       "      <td>8</td>\n",
       "      <td>5</td>\n",
       "      <td>5</td>\n",
       "      <td>8</td>\n",
       "      <td>5</td>\n",
       "      <td>12</td>\n",
       "      <td>131</td>\n",
       "    </tr>\n",
       "  </tbody>\n",
       "</table>\n",
       "</div>"
      ],
      "text/plain": [
       "        day month  year Temperature   RH   Ws Rain   FFMC  DMC   DC  ISI  BUI  \\\n",
       "count   246   245   245         245  245  245   245   245  245  245  245  245   \n",
       "unique   33     5     2          20   63   19    40   174  167  199  107  175   \n",
       "top       1     7  2012          35   64   14     0  88.9  7.9    8  1.1    3   \n",
       "freq      8    62   244          29   10   43   133     8    5    5    8    5   \n",
       "\n",
       "        FWI Classes    \n",
       "count   245       244  \n",
       "unique  127         9  \n",
       "top     0.4   fire     \n",
       "freq     12       131  "
      ]
     },
     "execution_count": 278,
     "metadata": {},
     "output_type": "execute_result"
    }
   ],
   "source": [
    "df.describe()"
   ]
  },
  {
   "cell_type": "markdown",
   "id": "1e242c6f",
   "metadata": {},
   "source": [
    "Check Datatypes in the dataset"
   ]
  },
  {
   "cell_type": "code",
   "execution_count": 279,
   "id": "a5a74318",
   "metadata": {},
   "outputs": [
    {
     "name": "stdout",
     "output_type": "stream",
     "text": [
      "<class 'pandas.core.frame.DataFrame'>\n",
      "RangeIndex: 247 entries, 0 to 246\n",
      "Data columns (total 14 columns):\n",
      " #   Column       Non-Null Count  Dtype \n",
      "---  ------       --------------  ----- \n",
      " 0   day          246 non-null    object\n",
      " 1   month        245 non-null    object\n",
      " 2   year         245 non-null    object\n",
      " 3   Temperature  245 non-null    object\n",
      " 4    RH          245 non-null    object\n",
      " 5    Ws          245 non-null    object\n",
      " 6   Rain         245 non-null    object\n",
      " 7   FFMC         245 non-null    object\n",
      " 8   DMC          245 non-null    object\n",
      " 9   DC           245 non-null    object\n",
      " 10  ISI          245 non-null    object\n",
      " 11  BUI          245 non-null    object\n",
      " 12  FWI          245 non-null    object\n",
      " 13  Classes      244 non-null    object\n",
      "dtypes: object(14)\n",
      "memory usage: 27.1+ KB\n"
     ]
    }
   ],
   "source": [
    "df.info()"
   ]
  },
  {
   "cell_type": "code",
   "execution_count": 280,
   "id": "cf93fc5b",
   "metadata": {},
   "outputs": [],
   "source": [
    "#adding the region\n",
    "df['Region']=[1 if i<121 else 0 for i in df.index]"
   ]
  },
  {
   "cell_type": "code",
   "execution_count": 281,
   "id": "2f2a03be",
   "metadata": {},
   "outputs": [
    {
     "data": {
      "text/html": [
       "<div>\n",
       "<style scoped>\n",
       "    .dataframe tbody tr th:only-of-type {\n",
       "        vertical-align: middle;\n",
       "    }\n",
       "\n",
       "    .dataframe tbody tr th {\n",
       "        vertical-align: top;\n",
       "    }\n",
       "\n",
       "    .dataframe thead th {\n",
       "        text-align: right;\n",
       "    }\n",
       "</style>\n",
       "<table border=\"1\" class=\"dataframe\">\n",
       "  <thead>\n",
       "    <tr style=\"text-align: right;\">\n",
       "      <th></th>\n",
       "      <th>day</th>\n",
       "      <th>month</th>\n",
       "      <th>year</th>\n",
       "      <th>Temperature</th>\n",
       "      <th>RH</th>\n",
       "      <th>Ws</th>\n",
       "      <th>Rain</th>\n",
       "      <th>FFMC</th>\n",
       "      <th>DMC</th>\n",
       "      <th>DC</th>\n",
       "      <th>ISI</th>\n",
       "      <th>BUI</th>\n",
       "      <th>FWI</th>\n",
       "      <th>Classes</th>\n",
       "      <th>Region</th>\n",
       "    </tr>\n",
       "  </thead>\n",
       "  <tbody>\n",
       "    <tr>\n",
       "      <th>0</th>\n",
       "      <td>1</td>\n",
       "      <td>6</td>\n",
       "      <td>2012</td>\n",
       "      <td>29</td>\n",
       "      <td>57</td>\n",
       "      <td>18</td>\n",
       "      <td>0</td>\n",
       "      <td>65.7</td>\n",
       "      <td>3.4</td>\n",
       "      <td>7.6</td>\n",
       "      <td>1.3</td>\n",
       "      <td>3.4</td>\n",
       "      <td>0.5</td>\n",
       "      <td>not fire</td>\n",
       "      <td>1</td>\n",
       "    </tr>\n",
       "    <tr>\n",
       "      <th>1</th>\n",
       "      <td>2</td>\n",
       "      <td>6</td>\n",
       "      <td>2012</td>\n",
       "      <td>29</td>\n",
       "      <td>61</td>\n",
       "      <td>13</td>\n",
       "      <td>1.3</td>\n",
       "      <td>64.4</td>\n",
       "      <td>4.1</td>\n",
       "      <td>7.6</td>\n",
       "      <td>1</td>\n",
       "      <td>3.9</td>\n",
       "      <td>0.4</td>\n",
       "      <td>not fire</td>\n",
       "      <td>1</td>\n",
       "    </tr>\n",
       "    <tr>\n",
       "      <th>2</th>\n",
       "      <td>3</td>\n",
       "      <td>6</td>\n",
       "      <td>2012</td>\n",
       "      <td>26</td>\n",
       "      <td>82</td>\n",
       "      <td>22</td>\n",
       "      <td>13.1</td>\n",
       "      <td>47.1</td>\n",
       "      <td>2.5</td>\n",
       "      <td>7.1</td>\n",
       "      <td>0.3</td>\n",
       "      <td>2.7</td>\n",
       "      <td>0.1</td>\n",
       "      <td>not fire</td>\n",
       "      <td>1</td>\n",
       "    </tr>\n",
       "    <tr>\n",
       "      <th>3</th>\n",
       "      <td>4</td>\n",
       "      <td>6</td>\n",
       "      <td>2012</td>\n",
       "      <td>25</td>\n",
       "      <td>89</td>\n",
       "      <td>13</td>\n",
       "      <td>2.5</td>\n",
       "      <td>28.6</td>\n",
       "      <td>1.3</td>\n",
       "      <td>6.9</td>\n",
       "      <td>0</td>\n",
       "      <td>1.7</td>\n",
       "      <td>0</td>\n",
       "      <td>not fire</td>\n",
       "      <td>1</td>\n",
       "    </tr>\n",
       "    <tr>\n",
       "      <th>4</th>\n",
       "      <td>5</td>\n",
       "      <td>6</td>\n",
       "      <td>2012</td>\n",
       "      <td>27</td>\n",
       "      <td>77</td>\n",
       "      <td>16</td>\n",
       "      <td>0</td>\n",
       "      <td>64.8</td>\n",
       "      <td>3</td>\n",
       "      <td>14.2</td>\n",
       "      <td>1.2</td>\n",
       "      <td>3.9</td>\n",
       "      <td>0.5</td>\n",
       "      <td>not fire</td>\n",
       "      <td>1</td>\n",
       "    </tr>\n",
       "  </tbody>\n",
       "</table>\n",
       "</div>"
      ],
      "text/plain": [
       "  day month  year Temperature  RH  Ws Rain   FFMC  DMC    DC  ISI  BUI  FWI  \\\n",
       "0   1     6  2012          29  57  18     0  65.7  3.4   7.6  1.3  3.4  0.5   \n",
       "1   2     6  2012          29  61  13   1.3  64.4  4.1   7.6    1  3.9  0.4   \n",
       "2   3     6  2012          26  82  22  13.1  47.1  2.5   7.1  0.3  2.7  0.1   \n",
       "3   4     6  2012          25  89  13   2.5  28.6  1.3   6.9    0  1.7    0   \n",
       "4   5     6  2012          27  77  16     0  64.8    3  14.2  1.2  3.9  0.5   \n",
       "\n",
       "     Classes    Region  \n",
       "0  not fire          1  \n",
       "1  not fire          1  \n",
       "2  not fire          1  \n",
       "3  not fire          1  \n",
       "4  not fire          1  "
      ]
     },
     "execution_count": 281,
     "metadata": {},
     "output_type": "execute_result"
    }
   ],
   "source": [
    "df.head()"
   ]
  },
  {
   "cell_type": "code",
   "execution_count": 282,
   "id": "5af01d9d",
   "metadata": {},
   "outputs": [],
   "source": [
    "#droping the year column \n",
    "df.drop(['year'],axis=1,inplace=True)"
   ]
  },
  {
   "cell_type": "code",
   "execution_count": 283,
   "id": "51d38be5",
   "metadata": {},
   "outputs": [
    {
     "data": {
      "text/html": [
       "<div>\n",
       "<style scoped>\n",
       "    .dataframe tbody tr th:only-of-type {\n",
       "        vertical-align: middle;\n",
       "    }\n",
       "\n",
       "    .dataframe tbody tr th {\n",
       "        vertical-align: top;\n",
       "    }\n",
       "\n",
       "    .dataframe thead th {\n",
       "        text-align: right;\n",
       "    }\n",
       "</style>\n",
       "<table border=\"1\" class=\"dataframe\">\n",
       "  <thead>\n",
       "    <tr style=\"text-align: right;\">\n",
       "      <th></th>\n",
       "      <th>day</th>\n",
       "      <th>month</th>\n",
       "      <th>Temperature</th>\n",
       "      <th>RH</th>\n",
       "      <th>Ws</th>\n",
       "      <th>Rain</th>\n",
       "      <th>FFMC</th>\n",
       "      <th>DMC</th>\n",
       "      <th>DC</th>\n",
       "      <th>ISI</th>\n",
       "      <th>BUI</th>\n",
       "      <th>FWI</th>\n",
       "      <th>Classes</th>\n",
       "      <th>Region</th>\n",
       "    </tr>\n",
       "  </thead>\n",
       "  <tbody>\n",
       "    <tr>\n",
       "      <th>0</th>\n",
       "      <td>1</td>\n",
       "      <td>6</td>\n",
       "      <td>29</td>\n",
       "      <td>57</td>\n",
       "      <td>18</td>\n",
       "      <td>0</td>\n",
       "      <td>65.7</td>\n",
       "      <td>3.4</td>\n",
       "      <td>7.6</td>\n",
       "      <td>1.3</td>\n",
       "      <td>3.4</td>\n",
       "      <td>0.5</td>\n",
       "      <td>not fire</td>\n",
       "      <td>1</td>\n",
       "    </tr>\n",
       "    <tr>\n",
       "      <th>1</th>\n",
       "      <td>2</td>\n",
       "      <td>6</td>\n",
       "      <td>29</td>\n",
       "      <td>61</td>\n",
       "      <td>13</td>\n",
       "      <td>1.3</td>\n",
       "      <td>64.4</td>\n",
       "      <td>4.1</td>\n",
       "      <td>7.6</td>\n",
       "      <td>1</td>\n",
       "      <td>3.9</td>\n",
       "      <td>0.4</td>\n",
       "      <td>not fire</td>\n",
       "      <td>1</td>\n",
       "    </tr>\n",
       "    <tr>\n",
       "      <th>2</th>\n",
       "      <td>3</td>\n",
       "      <td>6</td>\n",
       "      <td>26</td>\n",
       "      <td>82</td>\n",
       "      <td>22</td>\n",
       "      <td>13.1</td>\n",
       "      <td>47.1</td>\n",
       "      <td>2.5</td>\n",
       "      <td>7.1</td>\n",
       "      <td>0.3</td>\n",
       "      <td>2.7</td>\n",
       "      <td>0.1</td>\n",
       "      <td>not fire</td>\n",
       "      <td>1</td>\n",
       "    </tr>\n",
       "    <tr>\n",
       "      <th>3</th>\n",
       "      <td>4</td>\n",
       "      <td>6</td>\n",
       "      <td>25</td>\n",
       "      <td>89</td>\n",
       "      <td>13</td>\n",
       "      <td>2.5</td>\n",
       "      <td>28.6</td>\n",
       "      <td>1.3</td>\n",
       "      <td>6.9</td>\n",
       "      <td>0</td>\n",
       "      <td>1.7</td>\n",
       "      <td>0</td>\n",
       "      <td>not fire</td>\n",
       "      <td>1</td>\n",
       "    </tr>\n",
       "    <tr>\n",
       "      <th>4</th>\n",
       "      <td>5</td>\n",
       "      <td>6</td>\n",
       "      <td>27</td>\n",
       "      <td>77</td>\n",
       "      <td>16</td>\n",
       "      <td>0</td>\n",
       "      <td>64.8</td>\n",
       "      <td>3</td>\n",
       "      <td>14.2</td>\n",
       "      <td>1.2</td>\n",
       "      <td>3.9</td>\n",
       "      <td>0.5</td>\n",
       "      <td>not fire</td>\n",
       "      <td>1</td>\n",
       "    </tr>\n",
       "    <tr>\n",
       "      <th>...</th>\n",
       "      <td>...</td>\n",
       "      <td>...</td>\n",
       "      <td>...</td>\n",
       "      <td>...</td>\n",
       "      <td>...</td>\n",
       "      <td>...</td>\n",
       "      <td>...</td>\n",
       "      <td>...</td>\n",
       "      <td>...</td>\n",
       "      <td>...</td>\n",
       "      <td>...</td>\n",
       "      <td>...</td>\n",
       "      <td>...</td>\n",
       "      <td>...</td>\n",
       "    </tr>\n",
       "    <tr>\n",
       "      <th>242</th>\n",
       "      <td>26</td>\n",
       "      <td>9</td>\n",
       "      <td>30</td>\n",
       "      <td>65</td>\n",
       "      <td>14</td>\n",
       "      <td>0</td>\n",
       "      <td>85.4</td>\n",
       "      <td>16</td>\n",
       "      <td>44.5</td>\n",
       "      <td>4.5</td>\n",
       "      <td>16.9</td>\n",
       "      <td>6.5</td>\n",
       "      <td>fire</td>\n",
       "      <td>0</td>\n",
       "    </tr>\n",
       "    <tr>\n",
       "      <th>243</th>\n",
       "      <td>27</td>\n",
       "      <td>9</td>\n",
       "      <td>28</td>\n",
       "      <td>87</td>\n",
       "      <td>15</td>\n",
       "      <td>4.4</td>\n",
       "      <td>41.1</td>\n",
       "      <td>6.5</td>\n",
       "      <td>8</td>\n",
       "      <td>0.1</td>\n",
       "      <td>6.2</td>\n",
       "      <td>0</td>\n",
       "      <td>not fire</td>\n",
       "      <td>0</td>\n",
       "    </tr>\n",
       "    <tr>\n",
       "      <th>244</th>\n",
       "      <td>28</td>\n",
       "      <td>9</td>\n",
       "      <td>27</td>\n",
       "      <td>87</td>\n",
       "      <td>29</td>\n",
       "      <td>0.5</td>\n",
       "      <td>45.9</td>\n",
       "      <td>3.5</td>\n",
       "      <td>7.9</td>\n",
       "      <td>0.4</td>\n",
       "      <td>3.4</td>\n",
       "      <td>0.2</td>\n",
       "      <td>not fire</td>\n",
       "      <td>0</td>\n",
       "    </tr>\n",
       "    <tr>\n",
       "      <th>245</th>\n",
       "      <td>29</td>\n",
       "      <td>9</td>\n",
       "      <td>24</td>\n",
       "      <td>54</td>\n",
       "      <td>18</td>\n",
       "      <td>0.1</td>\n",
       "      <td>79.7</td>\n",
       "      <td>4.3</td>\n",
       "      <td>15.2</td>\n",
       "      <td>1.7</td>\n",
       "      <td>5.1</td>\n",
       "      <td>0.7</td>\n",
       "      <td>not fire</td>\n",
       "      <td>0</td>\n",
       "    </tr>\n",
       "    <tr>\n",
       "      <th>246</th>\n",
       "      <td>30</td>\n",
       "      <td>9</td>\n",
       "      <td>24</td>\n",
       "      <td>64</td>\n",
       "      <td>15</td>\n",
       "      <td>0.2</td>\n",
       "      <td>67.3</td>\n",
       "      <td>3.8</td>\n",
       "      <td>16.5</td>\n",
       "      <td>1.2</td>\n",
       "      <td>4.8</td>\n",
       "      <td>0.5</td>\n",
       "      <td>not fire</td>\n",
       "      <td>0</td>\n",
       "    </tr>\n",
       "  </tbody>\n",
       "</table>\n",
       "<p>247 rows × 14 columns</p>\n",
       "</div>"
      ],
      "text/plain": [
       "    day month Temperature  RH  Ws Rain   FFMC  DMC    DC  ISI   BUI  FWI  \\\n",
       "0     1     6          29  57  18     0  65.7  3.4   7.6  1.3   3.4  0.5   \n",
       "1     2     6          29  61  13   1.3  64.4  4.1   7.6    1   3.9  0.4   \n",
       "2     3     6          26  82  22  13.1  47.1  2.5   7.1  0.3   2.7  0.1   \n",
       "3     4     6          25  89  13   2.5  28.6  1.3   6.9    0   1.7    0   \n",
       "4     5     6          27  77  16     0  64.8    3  14.2  1.2   3.9  0.5   \n",
       "..   ..   ...         ...  ..  ..   ...   ...  ...   ...  ...   ...  ...   \n",
       "242  26     9          30  65  14     0  85.4   16  44.5  4.5  16.9  6.5   \n",
       "243  27     9          28  87  15   4.4  41.1  6.5     8  0.1   6.2    0   \n",
       "244  28     9          27  87  29   0.5  45.9  3.5   7.9  0.4   3.4  0.2   \n",
       "245  29     9          24  54  18   0.1  79.7  4.3  15.2  1.7   5.1  0.7   \n",
       "246  30     9          24  64  15   0.2  67.3  3.8  16.5  1.2   4.8  0.5   \n",
       "\n",
       "        Classes    Region  \n",
       "0     not fire          1  \n",
       "1     not fire          1  \n",
       "2     not fire          1  \n",
       "3     not fire          1  \n",
       "4     not fire          1  \n",
       "..            ...     ...  \n",
       "242       fire          0  \n",
       "243   not fire          0  \n",
       "244   not fire          0  \n",
       "245   not fire          0  \n",
       "246  not fire           0  \n",
       "\n",
       "[247 rows x 14 columns]"
      ]
     },
     "execution_count": 283,
     "metadata": {},
     "output_type": "execute_result"
    }
   ],
   "source": [
    "df"
   ]
  },
  {
   "cell_type": "markdown",
   "id": "e39c223a",
   "metadata": {},
   "source": [
    "# Data cleaning"
   ]
  },
  {
   "cell_type": "code",
   "execution_count": 284,
   "id": "3a58b6b4",
   "metadata": {},
   "outputs": [
    {
     "data": {
      "text/plain": [
       "day            1\n",
       "month          2\n",
       "Temperature    2\n",
       " RH            2\n",
       " Ws            2\n",
       "Rain           2\n",
       "FFMC           2\n",
       "DMC            2\n",
       "DC             2\n",
       "ISI            2\n",
       "BUI            2\n",
       "FWI            2\n",
       "Classes        3\n",
       "Region         0\n",
       "dtype: int64"
      ]
     },
     "execution_count": 284,
     "metadata": {},
     "output_type": "execute_result"
    }
   ],
   "source": [
    "df.isnull().sum()"
   ]
  },
  {
   "cell_type": "code",
   "execution_count": 285,
   "id": "ab0d6317",
   "metadata": {},
   "outputs": [
    {
     "data": {
      "text/html": [
       "<div>\n",
       "<style scoped>\n",
       "    .dataframe tbody tr th:only-of-type {\n",
       "        vertical-align: middle;\n",
       "    }\n",
       "\n",
       "    .dataframe tbody tr th {\n",
       "        vertical-align: top;\n",
       "    }\n",
       "\n",
       "    .dataframe thead th {\n",
       "        text-align: right;\n",
       "    }\n",
       "</style>\n",
       "<table border=\"1\" class=\"dataframe\">\n",
       "  <thead>\n",
       "    <tr style=\"text-align: right;\">\n",
       "      <th></th>\n",
       "      <th>day</th>\n",
       "      <th>month</th>\n",
       "      <th>Temperature</th>\n",
       "      <th>RH</th>\n",
       "      <th>Ws</th>\n",
       "      <th>Rain</th>\n",
       "      <th>FFMC</th>\n",
       "      <th>DMC</th>\n",
       "      <th>DC</th>\n",
       "      <th>ISI</th>\n",
       "      <th>BUI</th>\n",
       "      <th>FWI</th>\n",
       "      <th>Classes</th>\n",
       "      <th>Region</th>\n",
       "    </tr>\n",
       "  </thead>\n",
       "  <tbody>\n",
       "    <tr>\n",
       "      <th>122</th>\n",
       "      <td>NaN</td>\n",
       "      <td>NaN</td>\n",
       "      <td>NaN</td>\n",
       "      <td>NaN</td>\n",
       "      <td>NaN</td>\n",
       "      <td>NaN</td>\n",
       "      <td>NaN</td>\n",
       "      <td>NaN</td>\n",
       "      <td>NaN</td>\n",
       "      <td>NaN</td>\n",
       "      <td>NaN</td>\n",
       "      <td>NaN</td>\n",
       "      <td>NaN</td>\n",
       "      <td>0</td>\n",
       "    </tr>\n",
       "    <tr>\n",
       "      <th>123</th>\n",
       "      <td>Sidi-Bel Abbes Region Dataset</td>\n",
       "      <td>NaN</td>\n",
       "      <td>NaN</td>\n",
       "      <td>NaN</td>\n",
       "      <td>NaN</td>\n",
       "      <td>NaN</td>\n",
       "      <td>NaN</td>\n",
       "      <td>NaN</td>\n",
       "      <td>NaN</td>\n",
       "      <td>NaN</td>\n",
       "      <td>NaN</td>\n",
       "      <td>NaN</td>\n",
       "      <td>NaN</td>\n",
       "      <td>0</td>\n",
       "    </tr>\n",
       "    <tr>\n",
       "      <th>168</th>\n",
       "      <td>14</td>\n",
       "      <td>7</td>\n",
       "      <td>37</td>\n",
       "      <td>37</td>\n",
       "      <td>18</td>\n",
       "      <td>0.2</td>\n",
       "      <td>88.9</td>\n",
       "      <td>12.9</td>\n",
       "      <td>14.6 9</td>\n",
       "      <td>12.5</td>\n",
       "      <td>10.4</td>\n",
       "      <td>fire</td>\n",
       "      <td>NaN</td>\n",
       "      <td>0</td>\n",
       "    </tr>\n",
       "  </tbody>\n",
       "</table>\n",
       "</div>"
      ],
      "text/plain": [
       "                               day month Temperature   RH   Ws Rain   FFMC  \\\n",
       "122                            NaN   NaN         NaN  NaN  NaN   NaN   NaN   \n",
       "123  Sidi-Bel Abbes Region Dataset   NaN         NaN  NaN  NaN   NaN   NaN   \n",
       "168                             14     7          37   37   18   0.2  88.9   \n",
       "\n",
       "      DMC      DC   ISI   BUI      FWI Classes    Region  \n",
       "122   NaN     NaN   NaN   NaN      NaN       NaN       0  \n",
       "123   NaN     NaN   NaN   NaN      NaN       NaN       0  \n",
       "168  12.9  14.6 9  12.5  10.4  fire          NaN       0  "
      ]
     },
     "execution_count": 285,
     "metadata": {},
     "output_type": "execute_result"
    }
   ],
   "source": [
    "df[df.isnull().any(axis=1)]"
   ]
  },
  {
   "cell_type": "code",
   "execution_count": 286,
   "id": "adfb2ac1",
   "metadata": {},
   "outputs": [],
   "source": [
    "df.loc[:122,'Region']=1\n",
    "df.loc[122:,'Region']=2\n",
    "df[['Region']] = df[['Region']].astype(int)"
   ]
  },
  {
   "cell_type": "code",
   "execution_count": 287,
   "id": "32218a4d",
   "metadata": {},
   "outputs": [
    {
     "data": {
      "text/plain": [
       "(244, 14)"
      ]
     },
     "execution_count": 287,
     "metadata": {},
     "output_type": "execute_result"
    }
   ],
   "source": [
    "# Remove null or na values rows\n",
    "df =df.dropna().reset_index(drop=True) \n",
    "df.shape"
   ]
  },
  {
   "cell_type": "code",
   "execution_count": 288,
   "id": "c32a9794",
   "metadata": {},
   "outputs": [
    {
     "data": {
      "text/html": [
       "<div>\n",
       "<style scoped>\n",
       "    .dataframe tbody tr th:only-of-type {\n",
       "        vertical-align: middle;\n",
       "    }\n",
       "\n",
       "    .dataframe tbody tr th {\n",
       "        vertical-align: top;\n",
       "    }\n",
       "\n",
       "    .dataframe thead th {\n",
       "        text-align: right;\n",
       "    }\n",
       "</style>\n",
       "<table border=\"1\" class=\"dataframe\">\n",
       "  <thead>\n",
       "    <tr style=\"text-align: right;\">\n",
       "      <th></th>\n",
       "      <th>day</th>\n",
       "      <th>month</th>\n",
       "      <th>Temperature</th>\n",
       "      <th>RH</th>\n",
       "      <th>Ws</th>\n",
       "      <th>Rain</th>\n",
       "      <th>FFMC</th>\n",
       "      <th>DMC</th>\n",
       "      <th>DC</th>\n",
       "      <th>ISI</th>\n",
       "      <th>BUI</th>\n",
       "      <th>FWI</th>\n",
       "      <th>Classes</th>\n",
       "      <th>Region</th>\n",
       "    </tr>\n",
       "  </thead>\n",
       "  <tbody>\n",
       "    <tr>\n",
       "      <th>122</th>\n",
       "      <td>day</td>\n",
       "      <td>month</td>\n",
       "      <td>Temperature</td>\n",
       "      <td>RH</td>\n",
       "      <td>Ws</td>\n",
       "      <td>Rain</td>\n",
       "      <td>FFMC</td>\n",
       "      <td>DMC</td>\n",
       "      <td>DC</td>\n",
       "      <td>ISI</td>\n",
       "      <td>BUI</td>\n",
       "      <td>FWI</td>\n",
       "      <td>Classes</td>\n",
       "      <td>2</td>\n",
       "    </tr>\n",
       "  </tbody>\n",
       "</table>\n",
       "</div>"
      ],
      "text/plain": [
       "     day  month  Temperature   RH   Ws  Rain   FFMC  DMC  DC  ISI  BUI  FWI  \\\n",
       "122  day  month  Temperature   RH   Ws  Rain   FFMC  DMC  DC  ISI  BUI  FWI   \n",
       "\n",
       "     Classes    Region  \n",
       "122  Classes         2  "
      ]
     },
     "execution_count": 288,
     "metadata": {},
     "output_type": "execute_result"
    }
   ],
   "source": [
    "# Column which has string\n",
    "df.iloc[[122]]"
   ]
  },
  {
   "cell_type": "code",
   "execution_count": 289,
   "id": "fd853d58",
   "metadata": {},
   "outputs": [
    {
     "data": {
      "text/html": [
       "<div>\n",
       "<style scoped>\n",
       "    .dataframe tbody tr th:only-of-type {\n",
       "        vertical-align: middle;\n",
       "    }\n",
       "\n",
       "    .dataframe tbody tr th {\n",
       "        vertical-align: top;\n",
       "    }\n",
       "\n",
       "    .dataframe thead th {\n",
       "        text-align: right;\n",
       "    }\n",
       "</style>\n",
       "<table border=\"1\" class=\"dataframe\">\n",
       "  <thead>\n",
       "    <tr style=\"text-align: right;\">\n",
       "      <th></th>\n",
       "      <th>day</th>\n",
       "      <th>month</th>\n",
       "      <th>Temperature</th>\n",
       "      <th>RH</th>\n",
       "      <th>Ws</th>\n",
       "      <th>Rain</th>\n",
       "      <th>FFMC</th>\n",
       "      <th>DMC</th>\n",
       "      <th>DC</th>\n",
       "      <th>ISI</th>\n",
       "      <th>BUI</th>\n",
       "      <th>FWI</th>\n",
       "      <th>Classes</th>\n",
       "      <th>Region</th>\n",
       "    </tr>\n",
       "  </thead>\n",
       "  <tbody>\n",
       "  </tbody>\n",
       "</table>\n",
       "</div>"
      ],
      "text/plain": [
       "Empty DataFrame\n",
       "Columns: [day, month, Temperature,  RH,  Ws, Rain , FFMC, DMC, DC, ISI, BUI, FWI, Classes  , Region]\n",
       "Index: []"
      ]
     },
     "execution_count": 289,
     "metadata": {},
     "output_type": "execute_result"
    }
   ],
   "source": [
    "df[df.duplicated()]"
   ]
  },
  {
   "cell_type": "code",
   "execution_count": 290,
   "id": "8837e77c",
   "metadata": {},
   "outputs": [],
   "source": [
    "#remove 122th column\n",
    "df = df.drop(122).reset_index(drop=True)\n",
    "\n"
   ]
  },
  {
   "cell_type": "code",
   "execution_count": 291,
   "id": "749a49aa",
   "metadata": {},
   "outputs": [
    {
     "data": {
      "text/plain": [
       "day            0\n",
       "month          0\n",
       "Temperature    0\n",
       " RH            0\n",
       " Ws            0\n",
       "Rain           0\n",
       "FFMC           0\n",
       "DMC            0\n",
       "DC             0\n",
       "ISI            0\n",
       "BUI            0\n",
       "FWI            0\n",
       "Classes        0\n",
       "Region         0\n",
       "dtype: int64"
      ]
     },
     "execution_count": 291,
     "metadata": {},
     "output_type": "execute_result"
    }
   ],
   "source": [
    "df.isnull().sum()"
   ]
  },
  {
   "cell_type": "markdown",
   "id": "fb78fa23",
   "metadata": {},
   "source": [
    "checking data types of each column and change it correctly"
   ]
  },
  {
   "cell_type": "code",
   "execution_count": 292,
   "id": "fe66c2f7",
   "metadata": {},
   "outputs": [
    {
     "data": {
      "text/plain": [
       "day            object\n",
       "month          object\n",
       "Temperature    object\n",
       " RH            object\n",
       " Ws            object\n",
       "Rain           object\n",
       "FFMC           object\n",
       "DMC            object\n",
       "DC             object\n",
       "ISI            object\n",
       "BUI            object\n",
       "FWI            object\n",
       "Classes        object\n",
       "Region          int32\n",
       "dtype: object"
      ]
     },
     "execution_count": 292,
     "metadata": {},
     "output_type": "execute_result"
    }
   ],
   "source": [
    "df.dtypes"
   ]
  },
  {
   "cell_type": "code",
   "execution_count": 293,
   "id": "6daeadeb",
   "metadata": {},
   "outputs": [
    {
     "data": {
      "text/plain": [
       "Index(['day', 'month', 'Temperature', ' RH', ' Ws', 'Rain ', 'FFMC', 'DMC',\n",
       "       'DC', 'ISI', 'BUI', 'FWI', 'Classes  ', 'Region'],\n",
       "      dtype='object')"
      ]
     },
     "execution_count": 293,
     "metadata": {},
     "output_type": "execute_result"
    }
   ],
   "source": [
    "df.columns"
   ]
  },
  {
   "cell_type": "markdown",
   "id": "190aab73",
   "metadata": {},
   "source": [
    " To fix Spaces in the column names"
   ]
  },
  {
   "cell_type": "code",
   "execution_count": 294,
   "id": "6b42a54b",
   "metadata": {},
   "outputs": [
    {
     "data": {
      "text/plain": [
       "Index(['day', 'month', 'Temperature', 'RH', 'Ws', 'Rain', 'FFMC', 'DMC', 'DC',\n",
       "       'ISI', 'BUI', 'FWI', 'Classes', 'Region'],\n",
       "      dtype='object')"
      ]
     },
     "execution_count": 294,
     "metadata": {},
     "output_type": "execute_result"
    }
   ],
   "source": [
    "\n",
    "df.columns = df.columns.str.strip()\n",
    "df.columns"
   ]
  },
  {
   "cell_type": "markdown",
   "id": "703b8f16",
   "metadata": {},
   "source": [
    " To change and correct data types"
   ]
  },
  {
   "cell_type": "code",
   "execution_count": 295,
   "id": "1ed96c6c",
   "metadata": {},
   "outputs": [],
   "source": [
    "df[['day','month','Temperature','RH','Ws']]=df[['day','month','Temperature','RH','Ws']].astype('int')\n"
   ]
  },
  {
   "cell_type": "code",
   "execution_count": 296,
   "id": "15637def",
   "metadata": {},
   "outputs": [],
   "source": [
    "objects = [features for features in df.columns if df[features].dtypes=='O']\n",
    "for i in objects:\n",
    "    if i != 'Classes':\n",
    "        df[i] = df[i].astype(float)       \n"
   ]
  },
  {
   "cell_type": "code",
   "execution_count": 297,
   "id": "8c72706a",
   "metadata": {
    "scrolled": true
   },
   "outputs": [
    {
     "data": {
      "text/plain": [
       "day              int32\n",
       "month            int32\n",
       "Temperature      int32\n",
       "RH               int32\n",
       "Ws               int32\n",
       "Rain           float64\n",
       "FFMC           float64\n",
       "DMC            float64\n",
       "DC             float64\n",
       "ISI            float64\n",
       "BUI            float64\n",
       "FWI            float64\n",
       "Classes         object\n",
       "Region           int32\n",
       "dtype: object"
      ]
     },
     "execution_count": 297,
     "metadata": {},
     "output_type": "execute_result"
    }
   ],
   "source": [
    "df.dtypes"
   ]
  },
  {
   "cell_type": "code",
   "execution_count": 298,
   "id": "6442ca97",
   "metadata": {},
   "outputs": [
    {
     "data": {
      "text/html": [
       "<div>\n",
       "<style scoped>\n",
       "    .dataframe tbody tr th:only-of-type {\n",
       "        vertical-align: middle;\n",
       "    }\n",
       "\n",
       "    .dataframe tbody tr th {\n",
       "        vertical-align: top;\n",
       "    }\n",
       "\n",
       "    .dataframe thead th {\n",
       "        text-align: right;\n",
       "    }\n",
       "</style>\n",
       "<table border=\"1\" class=\"dataframe\">\n",
       "  <thead>\n",
       "    <tr style=\"text-align: right;\">\n",
       "      <th></th>\n",
       "      <th>day</th>\n",
       "      <th>month</th>\n",
       "      <th>Temperature</th>\n",
       "      <th>RH</th>\n",
       "      <th>Ws</th>\n",
       "      <th>Rain</th>\n",
       "      <th>FFMC</th>\n",
       "      <th>DMC</th>\n",
       "      <th>DC</th>\n",
       "      <th>ISI</th>\n",
       "      <th>BUI</th>\n",
       "      <th>FWI</th>\n",
       "      <th>Classes</th>\n",
       "      <th>Region</th>\n",
       "    </tr>\n",
       "  </thead>\n",
       "  <tbody>\n",
       "    <tr>\n",
       "      <th>0</th>\n",
       "      <td>1</td>\n",
       "      <td>6</td>\n",
       "      <td>29</td>\n",
       "      <td>57</td>\n",
       "      <td>18</td>\n",
       "      <td>0.0</td>\n",
       "      <td>65.7</td>\n",
       "      <td>3.4</td>\n",
       "      <td>7.6</td>\n",
       "      <td>1.3</td>\n",
       "      <td>3.4</td>\n",
       "      <td>0.5</td>\n",
       "      <td>not fire</td>\n",
       "      <td>1</td>\n",
       "    </tr>\n",
       "    <tr>\n",
       "      <th>1</th>\n",
       "      <td>2</td>\n",
       "      <td>6</td>\n",
       "      <td>29</td>\n",
       "      <td>61</td>\n",
       "      <td>13</td>\n",
       "      <td>1.3</td>\n",
       "      <td>64.4</td>\n",
       "      <td>4.1</td>\n",
       "      <td>7.6</td>\n",
       "      <td>1.0</td>\n",
       "      <td>3.9</td>\n",
       "      <td>0.4</td>\n",
       "      <td>not fire</td>\n",
       "      <td>1</td>\n",
       "    </tr>\n",
       "    <tr>\n",
       "      <th>2</th>\n",
       "      <td>3</td>\n",
       "      <td>6</td>\n",
       "      <td>26</td>\n",
       "      <td>82</td>\n",
       "      <td>22</td>\n",
       "      <td>13.1</td>\n",
       "      <td>47.1</td>\n",
       "      <td>2.5</td>\n",
       "      <td>7.1</td>\n",
       "      <td>0.3</td>\n",
       "      <td>2.7</td>\n",
       "      <td>0.1</td>\n",
       "      <td>not fire</td>\n",
       "      <td>1</td>\n",
       "    </tr>\n",
       "    <tr>\n",
       "      <th>3</th>\n",
       "      <td>4</td>\n",
       "      <td>6</td>\n",
       "      <td>25</td>\n",
       "      <td>89</td>\n",
       "      <td>13</td>\n",
       "      <td>2.5</td>\n",
       "      <td>28.6</td>\n",
       "      <td>1.3</td>\n",
       "      <td>6.9</td>\n",
       "      <td>0.0</td>\n",
       "      <td>1.7</td>\n",
       "      <td>0.0</td>\n",
       "      <td>not fire</td>\n",
       "      <td>1</td>\n",
       "    </tr>\n",
       "    <tr>\n",
       "      <th>4</th>\n",
       "      <td>5</td>\n",
       "      <td>6</td>\n",
       "      <td>27</td>\n",
       "      <td>77</td>\n",
       "      <td>16</td>\n",
       "      <td>0.0</td>\n",
       "      <td>64.8</td>\n",
       "      <td>3.0</td>\n",
       "      <td>14.2</td>\n",
       "      <td>1.2</td>\n",
       "      <td>3.9</td>\n",
       "      <td>0.5</td>\n",
       "      <td>not fire</td>\n",
       "      <td>1</td>\n",
       "    </tr>\n",
       "    <tr>\n",
       "      <th>...</th>\n",
       "      <td>...</td>\n",
       "      <td>...</td>\n",
       "      <td>...</td>\n",
       "      <td>...</td>\n",
       "      <td>...</td>\n",
       "      <td>...</td>\n",
       "      <td>...</td>\n",
       "      <td>...</td>\n",
       "      <td>...</td>\n",
       "      <td>...</td>\n",
       "      <td>...</td>\n",
       "      <td>...</td>\n",
       "      <td>...</td>\n",
       "      <td>...</td>\n",
       "    </tr>\n",
       "    <tr>\n",
       "      <th>238</th>\n",
       "      <td>26</td>\n",
       "      <td>9</td>\n",
       "      <td>30</td>\n",
       "      <td>65</td>\n",
       "      <td>14</td>\n",
       "      <td>0.0</td>\n",
       "      <td>85.4</td>\n",
       "      <td>16.0</td>\n",
       "      <td>44.5</td>\n",
       "      <td>4.5</td>\n",
       "      <td>16.9</td>\n",
       "      <td>6.5</td>\n",
       "      <td>fire</td>\n",
       "      <td>2</td>\n",
       "    </tr>\n",
       "    <tr>\n",
       "      <th>239</th>\n",
       "      <td>27</td>\n",
       "      <td>9</td>\n",
       "      <td>28</td>\n",
       "      <td>87</td>\n",
       "      <td>15</td>\n",
       "      <td>4.4</td>\n",
       "      <td>41.1</td>\n",
       "      <td>6.5</td>\n",
       "      <td>8.0</td>\n",
       "      <td>0.1</td>\n",
       "      <td>6.2</td>\n",
       "      <td>0.0</td>\n",
       "      <td>not fire</td>\n",
       "      <td>2</td>\n",
       "    </tr>\n",
       "    <tr>\n",
       "      <th>240</th>\n",
       "      <td>28</td>\n",
       "      <td>9</td>\n",
       "      <td>27</td>\n",
       "      <td>87</td>\n",
       "      <td>29</td>\n",
       "      <td>0.5</td>\n",
       "      <td>45.9</td>\n",
       "      <td>3.5</td>\n",
       "      <td>7.9</td>\n",
       "      <td>0.4</td>\n",
       "      <td>3.4</td>\n",
       "      <td>0.2</td>\n",
       "      <td>not fire</td>\n",
       "      <td>2</td>\n",
       "    </tr>\n",
       "    <tr>\n",
       "      <th>241</th>\n",
       "      <td>29</td>\n",
       "      <td>9</td>\n",
       "      <td>24</td>\n",
       "      <td>54</td>\n",
       "      <td>18</td>\n",
       "      <td>0.1</td>\n",
       "      <td>79.7</td>\n",
       "      <td>4.3</td>\n",
       "      <td>15.2</td>\n",
       "      <td>1.7</td>\n",
       "      <td>5.1</td>\n",
       "      <td>0.7</td>\n",
       "      <td>not fire</td>\n",
       "      <td>2</td>\n",
       "    </tr>\n",
       "    <tr>\n",
       "      <th>242</th>\n",
       "      <td>30</td>\n",
       "      <td>9</td>\n",
       "      <td>24</td>\n",
       "      <td>64</td>\n",
       "      <td>15</td>\n",
       "      <td>0.2</td>\n",
       "      <td>67.3</td>\n",
       "      <td>3.8</td>\n",
       "      <td>16.5</td>\n",
       "      <td>1.2</td>\n",
       "      <td>4.8</td>\n",
       "      <td>0.5</td>\n",
       "      <td>not fire</td>\n",
       "      <td>2</td>\n",
       "    </tr>\n",
       "  </tbody>\n",
       "</table>\n",
       "<p>243 rows × 14 columns</p>\n",
       "</div>"
      ],
      "text/plain": [
       "    day month Temperature  RH  Ws  Rain  FFMC   DMC    DC  ISI   BUI  FWI  \\\n",
       "0     1     6          29  57  18   0.0  65.7   3.4   7.6  1.3   3.4  0.5   \n",
       "1     2     6          29  61  13   1.3  64.4   4.1   7.6  1.0   3.9  0.4   \n",
       "2     3     6          26  82  22  13.1  47.1   2.5   7.1  0.3   2.7  0.1   \n",
       "3     4     6          25  89  13   2.5  28.6   1.3   6.9  0.0   1.7  0.0   \n",
       "4     5     6          27  77  16   0.0  64.8   3.0  14.2  1.2   3.9  0.5   \n",
       "..   ..   ...         ...  ..  ..   ...   ...   ...   ...  ...   ...  ...   \n",
       "238  26     9          30  65  14   0.0  85.4  16.0  44.5  4.5  16.9  6.5   \n",
       "239  27     9          28  87  15   4.4  41.1   6.5   8.0  0.1   6.2  0.0   \n",
       "240  28     9          27  87  29   0.5  45.9   3.5   7.9  0.4   3.4  0.2   \n",
       "241  29     9          24  54  18   0.1  79.7   4.3  15.2  1.7   5.1  0.7   \n",
       "242  30     9          24  64  15   0.2  67.3   3.8  16.5  1.2   4.8  0.5   \n",
       "\n",
       "          Classes Region  \n",
       "0     not fire         1  \n",
       "1     not fire         1  \n",
       "2     not fire         1  \n",
       "3     not fire         1  \n",
       "4     not fire         1  \n",
       "..            ...    ...  \n",
       "238       fire         2  \n",
       "239   not fire         2  \n",
       "240   not fire         2  \n",
       "241   not fire         2  \n",
       "242  not fire          2  \n",
       "\n",
       "[243 rows x 14 columns]"
      ]
     },
     "execution_count": 298,
     "metadata": {},
     "output_type": "execute_result"
    }
   ],
   "source": [
    "df.astype(str)"
   ]
  },
  {
   "cell_type": "code",
   "execution_count": 385,
   "id": "047c1279",
   "metadata": {},
   "outputs": [],
   "source": [
    "df[\"Classes\"]=df[\"Classes\"].str.replace(\"not fire\",\"1\")\n",
    "df[\"Classes\"]=df[\"Classes\"].str.replace(\"fire\",\"0\")\n",
    "df[\"Classes\"]=df[\"Classes\"].astype(int)"
   ]
  },
  {
   "cell_type": "code",
   "execution_count": 386,
   "id": "a5a70a21",
   "metadata": {},
   "outputs": [
    {
     "data": {
      "text/html": [
       "<div>\n",
       "<style scoped>\n",
       "    .dataframe tbody tr th:only-of-type {\n",
       "        vertical-align: middle;\n",
       "    }\n",
       "\n",
       "    .dataframe tbody tr th {\n",
       "        vertical-align: top;\n",
       "    }\n",
       "\n",
       "    .dataframe thead th {\n",
       "        text-align: right;\n",
       "    }\n",
       "</style>\n",
       "<table border=\"1\" class=\"dataframe\">\n",
       "  <thead>\n",
       "    <tr style=\"text-align: right;\">\n",
       "      <th></th>\n",
       "      <th>day</th>\n",
       "      <th>month</th>\n",
       "      <th>Temperature</th>\n",
       "      <th>RH</th>\n",
       "      <th>Ws</th>\n",
       "      <th>Rain</th>\n",
       "      <th>FFMC</th>\n",
       "      <th>DMC</th>\n",
       "      <th>DC</th>\n",
       "      <th>ISI</th>\n",
       "      <th>BUI</th>\n",
       "      <th>FWI</th>\n",
       "      <th>Classes</th>\n",
       "      <th>Region</th>\n",
       "    </tr>\n",
       "  </thead>\n",
       "  <tbody>\n",
       "    <tr>\n",
       "      <th>0</th>\n",
       "      <td>1</td>\n",
       "      <td>6</td>\n",
       "      <td>29</td>\n",
       "      <td>57</td>\n",
       "      <td>18</td>\n",
       "      <td>0.0</td>\n",
       "      <td>65.7</td>\n",
       "      <td>3.4</td>\n",
       "      <td>7.6</td>\n",
       "      <td>1.3</td>\n",
       "      <td>3.4</td>\n",
       "      <td>0.5</td>\n",
       "      <td>1</td>\n",
       "      <td>1</td>\n",
       "    </tr>\n",
       "    <tr>\n",
       "      <th>1</th>\n",
       "      <td>2</td>\n",
       "      <td>6</td>\n",
       "      <td>29</td>\n",
       "      <td>61</td>\n",
       "      <td>13</td>\n",
       "      <td>1.3</td>\n",
       "      <td>64.4</td>\n",
       "      <td>4.1</td>\n",
       "      <td>7.6</td>\n",
       "      <td>1.0</td>\n",
       "      <td>3.9</td>\n",
       "      <td>0.4</td>\n",
       "      <td>1</td>\n",
       "      <td>1</td>\n",
       "    </tr>\n",
       "    <tr>\n",
       "      <th>2</th>\n",
       "      <td>3</td>\n",
       "      <td>6</td>\n",
       "      <td>26</td>\n",
       "      <td>82</td>\n",
       "      <td>22</td>\n",
       "      <td>13.1</td>\n",
       "      <td>47.1</td>\n",
       "      <td>2.5</td>\n",
       "      <td>7.1</td>\n",
       "      <td>0.3</td>\n",
       "      <td>2.7</td>\n",
       "      <td>0.1</td>\n",
       "      <td>1</td>\n",
       "      <td>1</td>\n",
       "    </tr>\n",
       "    <tr>\n",
       "      <th>3</th>\n",
       "      <td>4</td>\n",
       "      <td>6</td>\n",
       "      <td>25</td>\n",
       "      <td>89</td>\n",
       "      <td>13</td>\n",
       "      <td>2.5</td>\n",
       "      <td>28.6</td>\n",
       "      <td>1.3</td>\n",
       "      <td>6.9</td>\n",
       "      <td>0.0</td>\n",
       "      <td>1.7</td>\n",
       "      <td>0.0</td>\n",
       "      <td>1</td>\n",
       "      <td>1</td>\n",
       "    </tr>\n",
       "    <tr>\n",
       "      <th>4</th>\n",
       "      <td>5</td>\n",
       "      <td>6</td>\n",
       "      <td>27</td>\n",
       "      <td>77</td>\n",
       "      <td>16</td>\n",
       "      <td>0.0</td>\n",
       "      <td>64.8</td>\n",
       "      <td>3.0</td>\n",
       "      <td>14.2</td>\n",
       "      <td>1.2</td>\n",
       "      <td>3.9</td>\n",
       "      <td>0.5</td>\n",
       "      <td>1</td>\n",
       "      <td>1</td>\n",
       "    </tr>\n",
       "    <tr>\n",
       "      <th>...</th>\n",
       "      <td>...</td>\n",
       "      <td>...</td>\n",
       "      <td>...</td>\n",
       "      <td>...</td>\n",
       "      <td>...</td>\n",
       "      <td>...</td>\n",
       "      <td>...</td>\n",
       "      <td>...</td>\n",
       "      <td>...</td>\n",
       "      <td>...</td>\n",
       "      <td>...</td>\n",
       "      <td>...</td>\n",
       "      <td>...</td>\n",
       "      <td>...</td>\n",
       "    </tr>\n",
       "    <tr>\n",
       "      <th>238</th>\n",
       "      <td>26</td>\n",
       "      <td>9</td>\n",
       "      <td>30</td>\n",
       "      <td>65</td>\n",
       "      <td>14</td>\n",
       "      <td>0.0</td>\n",
       "      <td>85.4</td>\n",
       "      <td>16.0</td>\n",
       "      <td>44.5</td>\n",
       "      <td>4.5</td>\n",
       "      <td>16.9</td>\n",
       "      <td>6.5</td>\n",
       "      <td>0</td>\n",
       "      <td>2</td>\n",
       "    </tr>\n",
       "    <tr>\n",
       "      <th>239</th>\n",
       "      <td>27</td>\n",
       "      <td>9</td>\n",
       "      <td>28</td>\n",
       "      <td>87</td>\n",
       "      <td>15</td>\n",
       "      <td>4.4</td>\n",
       "      <td>41.1</td>\n",
       "      <td>6.5</td>\n",
       "      <td>8.0</td>\n",
       "      <td>0.1</td>\n",
       "      <td>6.2</td>\n",
       "      <td>0.0</td>\n",
       "      <td>1</td>\n",
       "      <td>2</td>\n",
       "    </tr>\n",
       "    <tr>\n",
       "      <th>240</th>\n",
       "      <td>28</td>\n",
       "      <td>9</td>\n",
       "      <td>27</td>\n",
       "      <td>87</td>\n",
       "      <td>29</td>\n",
       "      <td>0.5</td>\n",
       "      <td>45.9</td>\n",
       "      <td>3.5</td>\n",
       "      <td>7.9</td>\n",
       "      <td>0.4</td>\n",
       "      <td>3.4</td>\n",
       "      <td>0.2</td>\n",
       "      <td>1</td>\n",
       "      <td>2</td>\n",
       "    </tr>\n",
       "    <tr>\n",
       "      <th>241</th>\n",
       "      <td>29</td>\n",
       "      <td>9</td>\n",
       "      <td>24</td>\n",
       "      <td>54</td>\n",
       "      <td>18</td>\n",
       "      <td>0.1</td>\n",
       "      <td>79.7</td>\n",
       "      <td>4.3</td>\n",
       "      <td>15.2</td>\n",
       "      <td>1.7</td>\n",
       "      <td>5.1</td>\n",
       "      <td>0.7</td>\n",
       "      <td>1</td>\n",
       "      <td>2</td>\n",
       "    </tr>\n",
       "    <tr>\n",
       "      <th>242</th>\n",
       "      <td>30</td>\n",
       "      <td>9</td>\n",
       "      <td>24</td>\n",
       "      <td>64</td>\n",
       "      <td>15</td>\n",
       "      <td>0.2</td>\n",
       "      <td>67.3</td>\n",
       "      <td>3.8</td>\n",
       "      <td>16.5</td>\n",
       "      <td>1.2</td>\n",
       "      <td>4.8</td>\n",
       "      <td>0.5</td>\n",
       "      <td>1</td>\n",
       "      <td>2</td>\n",
       "    </tr>\n",
       "  </tbody>\n",
       "</table>\n",
       "<p>243 rows × 14 columns</p>\n",
       "</div>"
      ],
      "text/plain": [
       "     day  month  Temperature  RH  Ws  Rain  FFMC   DMC    DC  ISI   BUI  FWI  \\\n",
       "0      1      6           29  57  18   0.0  65.7   3.4   7.6  1.3   3.4  0.5   \n",
       "1      2      6           29  61  13   1.3  64.4   4.1   7.6  1.0   3.9  0.4   \n",
       "2      3      6           26  82  22  13.1  47.1   2.5   7.1  0.3   2.7  0.1   \n",
       "3      4      6           25  89  13   2.5  28.6   1.3   6.9  0.0   1.7  0.0   \n",
       "4      5      6           27  77  16   0.0  64.8   3.0  14.2  1.2   3.9  0.5   \n",
       "..   ...    ...          ...  ..  ..   ...   ...   ...   ...  ...   ...  ...   \n",
       "238   26      9           30  65  14   0.0  85.4  16.0  44.5  4.5  16.9  6.5   \n",
       "239   27      9           28  87  15   4.4  41.1   6.5   8.0  0.1   6.2  0.0   \n",
       "240   28      9           27  87  29   0.5  45.9   3.5   7.9  0.4   3.4  0.2   \n",
       "241   29      9           24  54  18   0.1  79.7   4.3  15.2  1.7   5.1  0.7   \n",
       "242   30      9           24  64  15   0.2  67.3   3.8  16.5  1.2   4.8  0.5   \n",
       "\n",
       "     Classes  Region  \n",
       "0          1       1  \n",
       "1          1       1  \n",
       "2          1       1  \n",
       "3          1       1  \n",
       "4          1       1  \n",
       "..       ...     ...  \n",
       "238        0       2  \n",
       "239        1       2  \n",
       "240        1       2  \n",
       "241        1       2  \n",
       "242        1       2  \n",
       "\n",
       "[243 rows x 14 columns]"
      ]
     },
     "execution_count": 386,
     "metadata": {},
     "output_type": "execute_result"
    }
   ],
   "source": [
    "df"
   ]
  },
  {
   "cell_type": "markdown",
   "id": "6eee9f97",
   "metadata": {},
   "source": [
    "# 3.Exploring data"
   ]
  },
  {
   "cell_type": "code",
   "execution_count": 387,
   "id": "93fb00d6",
   "metadata": {},
   "outputs": [
    {
     "name": "stdout",
     "output_type": "stream",
     "text": [
      "[]\n",
      "['day', 'month', 'Temperature', 'RH', 'Ws', 'Rain', 'FFMC', 'DMC', 'DC', 'ISI', 'BUI', 'FWI', 'Classes', 'Region']\n"
     ]
    }
   ],
   "source": [
    "# define numerical & categorical columns\n",
    "categorical_features = [i for i in df.columns if df[i].dtypes == 'object']\n",
    "numeric_features = [i for i in df.columns if df[i].dtypes != 'object']\n",
    "print(categorical_features)\n",
    "print(numeric_features)"
   ]
  },
  {
   "cell_type": "markdown",
   "id": "dddca801",
   "metadata": {},
   "source": [
    "# Univariate Analysis"
   ]
  },
  {
   "cell_type": "markdown",
   "id": "03aa69ea",
   "metadata": {},
   "source": [
    "# The term univariate analysis refers to the analysis of one variable prefix “uni” means “one.” The purpose of univariate analysisis to understand the distribution of values for a single variable."
   ]
  },
  {
   "cell_type": "markdown",
   "id": "fed188b4",
   "metadata": {},
   "source": [
    "# numerical columns"
   ]
  },
  {
   "cell_type": "code",
   "execution_count": 388,
   "id": "a60b8238",
   "metadata": {},
   "outputs": [
    {
     "data": {
      "image/png": "[encoded data removed]",
      "text/plain": [
       "<Figure size 1080x1080 with 14 Axes>"
      ]
     },
     "metadata": {
      "needs_background": "light"
     },
     "output_type": "display_data"
    }
   ],
   "source": [
    "plt.figure(figsize=(15, 15))\n",
    "plt.suptitle('Univariate Analysis of Numerical Features', fontsize=20, fontweight='bold', alpha=0.8, y=1.)\n",
    "\n",
    "for i in range(0, len(numeric_features)):\n",
    "    plt.subplot(5, 3, i+1)\n",
    "    sns.kdeplot(x=df[numeric_features[i]],shade=True, color='b')\n",
    "    plt.xlabel(numeric_features[i])\n",
    "    plt.tight_layout()"
   ]
  },
  {
   "cell_type": "markdown",
   "id": "2dec617a",
   "metadata": {},
   "source": [
    "Report"
   ]
  },
  {
   "cell_type": "markdown",
   "id": "ff564222",
   "metadata": {},
   "source": [
    "* Temperature,RS,Ws are normally distributed.\n",
    "* FFMC is right skewed.\n",
    "* Rain,DMC,DC,ISI,BUI,FWI are left skewed or negatively skewed."
   ]
  },
  {
   "cell_type": "markdown",
   "id": "f907407f",
   "metadata": {},
   "source": [
    "# categorical analysis"
   ]
  },
  {
   "cell_type": "code",
   "execution_count": 389,
   "id": "13f1613e",
   "metadata": {},
   "outputs": [
    {
     "data": {
      "text/plain": [
       "<AxesSubplot:xlabel='Classes', ylabel='count'>"
      ]
     },
     "execution_count": 389,
     "metadata": {},
     "output_type": "execute_result"
    },
    {
     "data": {
      "image/png": "[encoded data removed]",
      "text/plain": [
       "<Figure size 1080x576 with 1 Axes>"
      ]
     },
     "metadata": {
      "needs_background": "light"
     },
     "output_type": "display_data"
    }
   ],
   "source": [
    "\n",
    "plt.suptitle('Univariate Analysis of Categorical Features')\n",
    "sns.countplot(x=df['Classes'])\n",
    "    "
   ]
  },
  {
   "cell_type": "markdown",
   "id": "fff8bf0c",
   "metadata": {},
   "source": [
    "Report"
   ]
  },
  {
   "cell_type": "markdown",
   "id": "055d8aba",
   "metadata": {},
   "source": [
    "from the plot we can observe that fire has occured many times"
   ]
  },
  {
   "cell_type": "markdown",
   "id": "d45c4bcc",
   "metadata": {},
   "source": [
    "# Bivariate analysis"
   ]
  },
  {
   "cell_type": "code",
   "execution_count": 390,
   "id": "7d71f1c0",
   "metadata": {},
   "outputs": [
    {
     "data": {
      "text/plain": [
       "<seaborn.axisgrid.FacetGrid at 0x1754b09fa30>"
      ]
     },
     "execution_count": 390,
     "metadata": {},
     "output_type": "execute_result"
    },
    {
     "data": {
      "image/png": "[encoded data removed]",
      "text/plain": [
       "<Figure size 405.75x360 with 1 Axes>"
      ]
     },
     "metadata": {
      "needs_background": "light"
     },
     "output_type": "display_data"
    }
   ],
   "source": [
    "sns.relplot(x='Temperature',y='Rain',data=df,hue='Classes')"
   ]
  },
  {
   "cell_type": "markdown",
   "id": "96d32c18",
   "metadata": {},
   "source": [
    "# Multivariate analysis"
   ]
  },
  {
   "cell_type": "code",
   "execution_count": 391,
   "id": "e9b81f3e",
   "metadata": {},
   "outputs": [],
   "source": [
    "#Multivariate analysis is the analysis of more than two variable."
   ]
  },
  {
   "cell_type": "markdown",
   "id": "aaf7796b",
   "metadata": {},
   "source": [
    "Check Multicollinearity in Numerical features"
   ]
  },
  {
   "cell_type": "code",
   "execution_count": 392,
   "id": "bcb8969b",
   "metadata": {},
   "outputs": [
    {
     "data": {
      "text/html": [
       "<div>\n",
       "<style scoped>\n",
       "    .dataframe tbody tr th:only-of-type {\n",
       "        vertical-align: middle;\n",
       "    }\n",
       "\n",
       "    .dataframe tbody tr th {\n",
       "        vertical-align: top;\n",
       "    }\n",
       "\n",
       "    .dataframe thead th {\n",
       "        text-align: right;\n",
       "    }\n",
       "</style>\n",
       "<table border=\"1\" class=\"dataframe\">\n",
       "  <thead>\n",
       "    <tr style=\"text-align: right;\">\n",
       "      <th></th>\n",
       "      <th>day</th>\n",
       "      <th>month</th>\n",
       "      <th>Temperature</th>\n",
       "      <th>RH</th>\n",
       "      <th>Ws</th>\n",
       "      <th>Rain</th>\n",
       "      <th>FFMC</th>\n",
       "      <th>DMC</th>\n",
       "      <th>DC</th>\n",
       "      <th>ISI</th>\n",
       "      <th>BUI</th>\n",
       "      <th>FWI</th>\n",
       "      <th>Classes</th>\n",
       "      <th>Region</th>\n",
       "    </tr>\n",
       "  </thead>\n",
       "  <tbody>\n",
       "    <tr>\n",
       "      <th>day</th>\n",
       "      <td>1.000000</td>\n",
       "      <td>-0.000369</td>\n",
       "      <td>0.097227</td>\n",
       "      <td>-0.076034</td>\n",
       "      <td>0.047812</td>\n",
       "      <td>-0.112523</td>\n",
       "      <td>0.224956</td>\n",
       "      <td>0.491514</td>\n",
       "      <td>0.527952</td>\n",
       "      <td>0.180543</td>\n",
       "      <td>0.517117</td>\n",
       "      <td>0.350781</td>\n",
       "      <td>-0.202840</td>\n",
       "      <td>0.000821</td>\n",
       "    </tr>\n",
       "    <tr>\n",
       "      <th>month</th>\n",
       "      <td>-0.000369</td>\n",
       "      <td>1.000000</td>\n",
       "      <td>-0.056781</td>\n",
       "      <td>-0.041252</td>\n",
       "      <td>-0.039880</td>\n",
       "      <td>0.034822</td>\n",
       "      <td>0.017030</td>\n",
       "      <td>0.067943</td>\n",
       "      <td>0.126511</td>\n",
       "      <td>0.065608</td>\n",
       "      <td>0.085073</td>\n",
       "      <td>0.082639</td>\n",
       "      <td>-0.024004</td>\n",
       "      <td>0.001857</td>\n",
       "    </tr>\n",
       "    <tr>\n",
       "      <th>Temperature</th>\n",
       "      <td>0.097227</td>\n",
       "      <td>-0.056781</td>\n",
       "      <td>1.000000</td>\n",
       "      <td>-0.651400</td>\n",
       "      <td>-0.284510</td>\n",
       "      <td>-0.326492</td>\n",
       "      <td>0.676568</td>\n",
       "      <td>0.485687</td>\n",
       "      <td>0.376284</td>\n",
       "      <td>0.603871</td>\n",
       "      <td>0.459789</td>\n",
       "      <td>0.566670</td>\n",
       "      <td>-0.516015</td>\n",
       "      <td>0.269555</td>\n",
       "    </tr>\n",
       "    <tr>\n",
       "      <th>RH</th>\n",
       "      <td>-0.076034</td>\n",
       "      <td>-0.041252</td>\n",
       "      <td>-0.651400</td>\n",
       "      <td>1.000000</td>\n",
       "      <td>0.244048</td>\n",
       "      <td>0.222356</td>\n",
       "      <td>-0.644873</td>\n",
       "      <td>-0.408519</td>\n",
       "      <td>-0.226941</td>\n",
       "      <td>-0.686667</td>\n",
       "      <td>-0.353841</td>\n",
       "      <td>-0.580957</td>\n",
       "      <td>0.432161</td>\n",
       "      <td>-0.402682</td>\n",
       "    </tr>\n",
       "    <tr>\n",
       "      <th>Ws</th>\n",
       "      <td>0.047812</td>\n",
       "      <td>-0.039880</td>\n",
       "      <td>-0.284510</td>\n",
       "      <td>0.244048</td>\n",
       "      <td>1.000000</td>\n",
       "      <td>0.171506</td>\n",
       "      <td>-0.166548</td>\n",
       "      <td>-0.000721</td>\n",
       "      <td>0.079135</td>\n",
       "      <td>0.008532</td>\n",
       "      <td>0.031438</td>\n",
       "      <td>0.032368</td>\n",
       "      <td>0.069964</td>\n",
       "      <td>-0.181160</td>\n",
       "    </tr>\n",
       "    <tr>\n",
       "      <th>Rain</th>\n",
       "      <td>-0.112523</td>\n",
       "      <td>0.034822</td>\n",
       "      <td>-0.326492</td>\n",
       "      <td>0.222356</td>\n",
       "      <td>0.171506</td>\n",
       "      <td>1.000000</td>\n",
       "      <td>-0.543906</td>\n",
       "      <td>-0.288773</td>\n",
       "      <td>-0.298023</td>\n",
       "      <td>-0.347484</td>\n",
       "      <td>-0.299852</td>\n",
       "      <td>-0.324422</td>\n",
       "      <td>0.379097</td>\n",
       "      <td>-0.040013</td>\n",
       "    </tr>\n",
       "    <tr>\n",
       "      <th>FFMC</th>\n",
       "      <td>0.224956</td>\n",
       "      <td>0.017030</td>\n",
       "      <td>0.676568</td>\n",
       "      <td>-0.644873</td>\n",
       "      <td>-0.166548</td>\n",
       "      <td>-0.543906</td>\n",
       "      <td>1.000000</td>\n",
       "      <td>0.603608</td>\n",
       "      <td>0.507397</td>\n",
       "      <td>0.740007</td>\n",
       "      <td>0.592011</td>\n",
       "      <td>0.691132</td>\n",
       "      <td>-0.769492</td>\n",
       "      <td>0.222241</td>\n",
       "    </tr>\n",
       "    <tr>\n",
       "      <th>DMC</th>\n",
       "      <td>0.491514</td>\n",
       "      <td>0.067943</td>\n",
       "      <td>0.485687</td>\n",
       "      <td>-0.408519</td>\n",
       "      <td>-0.000721</td>\n",
       "      <td>-0.288773</td>\n",
       "      <td>0.603608</td>\n",
       "      <td>1.000000</td>\n",
       "      <td>0.875925</td>\n",
       "      <td>0.680454</td>\n",
       "      <td>0.982248</td>\n",
       "      <td>0.875864</td>\n",
       "      <td>-0.585658</td>\n",
       "      <td>0.192089</td>\n",
       "    </tr>\n",
       "    <tr>\n",
       "      <th>DC</th>\n",
       "      <td>0.527952</td>\n",
       "      <td>0.126511</td>\n",
       "      <td>0.376284</td>\n",
       "      <td>-0.226941</td>\n",
       "      <td>0.079135</td>\n",
       "      <td>-0.298023</td>\n",
       "      <td>0.507397</td>\n",
       "      <td>0.875925</td>\n",
       "      <td>1.000000</td>\n",
       "      <td>0.508643</td>\n",
       "      <td>0.941988</td>\n",
       "      <td>0.739521</td>\n",
       "      <td>-0.511123</td>\n",
       "      <td>-0.078734</td>\n",
       "    </tr>\n",
       "    <tr>\n",
       "      <th>ISI</th>\n",
       "      <td>0.180543</td>\n",
       "      <td>0.065608</td>\n",
       "      <td>0.603871</td>\n",
       "      <td>-0.686667</td>\n",
       "      <td>0.008532</td>\n",
       "      <td>-0.347484</td>\n",
       "      <td>0.740007</td>\n",
       "      <td>0.680454</td>\n",
       "      <td>0.508643</td>\n",
       "      <td>1.000000</td>\n",
       "      <td>0.644093</td>\n",
       "      <td>0.922895</td>\n",
       "      <td>-0.735197</td>\n",
       "      <td>0.263197</td>\n",
       "    </tr>\n",
       "    <tr>\n",
       "      <th>BUI</th>\n",
       "      <td>0.517117</td>\n",
       "      <td>0.085073</td>\n",
       "      <td>0.459789</td>\n",
       "      <td>-0.353841</td>\n",
       "      <td>0.031438</td>\n",
       "      <td>-0.299852</td>\n",
       "      <td>0.592011</td>\n",
       "      <td>0.982248</td>\n",
       "      <td>0.941988</td>\n",
       "      <td>0.644093</td>\n",
       "      <td>1.000000</td>\n",
       "      <td>0.857973</td>\n",
       "      <td>-0.586639</td>\n",
       "      <td>0.089408</td>\n",
       "    </tr>\n",
       "    <tr>\n",
       "      <th>FWI</th>\n",
       "      <td>0.350781</td>\n",
       "      <td>0.082639</td>\n",
       "      <td>0.566670</td>\n",
       "      <td>-0.580957</td>\n",
       "      <td>0.032368</td>\n",
       "      <td>-0.324422</td>\n",
       "      <td>0.691132</td>\n",
       "      <td>0.875864</td>\n",
       "      <td>0.739521</td>\n",
       "      <td>0.922895</td>\n",
       "      <td>0.857973</td>\n",
       "      <td>1.000000</td>\n",
       "      <td>-0.719216</td>\n",
       "      <td>0.197102</td>\n",
       "    </tr>\n",
       "    <tr>\n",
       "      <th>Classes</th>\n",
       "      <td>-0.202840</td>\n",
       "      <td>-0.024004</td>\n",
       "      <td>-0.516015</td>\n",
       "      <td>0.432161</td>\n",
       "      <td>0.069964</td>\n",
       "      <td>0.379097</td>\n",
       "      <td>-0.769492</td>\n",
       "      <td>-0.585658</td>\n",
       "      <td>-0.511123</td>\n",
       "      <td>-0.735197</td>\n",
       "      <td>-0.586639</td>\n",
       "      <td>-0.719216</td>\n",
       "      <td>1.000000</td>\n",
       "      <td>-0.162347</td>\n",
       "    </tr>\n",
       "    <tr>\n",
       "      <th>Region</th>\n",
       "      <td>0.000821</td>\n",
       "      <td>0.001857</td>\n",
       "      <td>0.269555</td>\n",
       "      <td>-0.402682</td>\n",
       "      <td>-0.181160</td>\n",
       "      <td>-0.040013</td>\n",
       "      <td>0.222241</td>\n",
       "      <td>0.192089</td>\n",
       "      <td>-0.078734</td>\n",
       "      <td>0.263197</td>\n",
       "      <td>0.089408</td>\n",
       "      <td>0.197102</td>\n",
       "      <td>-0.162347</td>\n",
       "      <td>1.000000</td>\n",
       "    </tr>\n",
       "  </tbody>\n",
       "</table>\n",
       "</div>"
      ],
      "text/plain": [
       "                  day     month  Temperature        RH        Ws      Rain  \\\n",
       "day          1.000000 -0.000369     0.097227 -0.076034  0.047812 -0.112523   \n",
       "month       -0.000369  1.000000    -0.056781 -0.041252 -0.039880  0.034822   \n",
       "Temperature  0.097227 -0.056781     1.000000 -0.651400 -0.284510 -0.326492   \n",
       "RH          -0.076034 -0.041252    -0.651400  1.000000  0.244048  0.222356   \n",
       "Ws           0.047812 -0.039880    -0.284510  0.244048  1.000000  0.171506   \n",
       "Rain        -0.112523  0.034822    -0.326492  0.222356  0.171506  1.000000   \n",
       "FFMC         0.224956  0.017030     0.676568 -0.644873 -0.166548 -0.543906   \n",
       "DMC          0.491514  0.067943     0.485687 -0.408519 -0.000721 -0.288773   \n",
       "DC           0.527952  0.126511     0.376284 -0.226941  0.079135 -0.298023   \n",
       "ISI          0.180543  0.065608     0.603871 -0.686667  0.008532 -0.347484   \n",
       "BUI          0.517117  0.085073     0.459789 -0.353841  0.031438 -0.299852   \n",
       "FWI          0.350781  0.082639     0.566670 -0.580957  0.032368 -0.324422   \n",
       "Classes     -0.202840 -0.024004    -0.516015  0.432161  0.069964  0.379097   \n",
       "Region       0.000821  0.001857     0.269555 -0.402682 -0.181160 -0.040013   \n",
       "\n",
       "                 FFMC       DMC        DC       ISI       BUI       FWI  \\\n",
       "day          0.224956  0.491514  0.527952  0.180543  0.517117  0.350781   \n",
       "month        0.017030  0.067943  0.126511  0.065608  0.085073  0.082639   \n",
       "Temperature  0.676568  0.485687  0.376284  0.603871  0.459789  0.566670   \n",
       "RH          -0.644873 -0.408519 -0.226941 -0.686667 -0.353841 -0.580957   \n",
       "Ws          -0.166548 -0.000721  0.079135  0.008532  0.031438  0.032368   \n",
       "Rain        -0.543906 -0.288773 -0.298023 -0.347484 -0.299852 -0.324422   \n",
       "FFMC         1.000000  0.603608  0.507397  0.740007  0.592011  0.691132   \n",
       "DMC          0.603608  1.000000  0.875925  0.680454  0.982248  0.875864   \n",
       "DC           0.507397  0.875925  1.000000  0.508643  0.941988  0.739521   \n",
       "ISI          0.740007  0.680454  0.508643  1.000000  0.644093  0.922895   \n",
       "BUI          0.592011  0.982248  0.941988  0.644093  1.000000  0.857973   \n",
       "FWI          0.691132  0.875864  0.739521  0.922895  0.857973  1.000000   \n",
       "Classes     -0.769492 -0.585658 -0.511123 -0.735197 -0.586639 -0.719216   \n",
       "Region       0.222241  0.192089 -0.078734  0.263197  0.089408  0.197102   \n",
       "\n",
       "              Classes    Region  \n",
       "day         -0.202840  0.000821  \n",
       "month       -0.024004  0.001857  \n",
       "Temperature -0.516015  0.269555  \n",
       "RH           0.432161 -0.402682  \n",
       "Ws           0.069964 -0.181160  \n",
       "Rain         0.379097 -0.040013  \n",
       "FFMC        -0.769492  0.222241  \n",
       "DMC         -0.585658  0.192089  \n",
       "DC          -0.511123 -0.078734  \n",
       "ISI         -0.735197  0.263197  \n",
       "BUI         -0.586639  0.089408  \n",
       "FWI         -0.719216  0.197102  \n",
       "Classes      1.000000 -0.162347  \n",
       "Region      -0.162347  1.000000  "
      ]
     },
     "execution_count": 392,
     "metadata": {},
     "output_type": "execute_result"
    }
   ],
   "source": [
    "df.corr()"
   ]
  },
  {
   "cell_type": "code",
   "execution_count": 393,
   "id": "e04b1496",
   "metadata": {},
   "outputs": [
    {
     "data": {
      "image/png": "[encoded data removed]",
      "text/plain": [
       "<Figure size 1080x720 with 2 Axes>"
      ]
     },
     "metadata": {
      "needs_background": "light"
     },
     "output_type": "display_data"
    }
   ],
   "source": [
    "\n",
    "plt.figure(figsize = (15,10))\n",
    "sns.heatmap(df.corr(), cmap=\"CMRmap\", annot=True)\n",
    "plt.show()"
   ]
  },
  {
   "cell_type": "markdown",
   "id": "6e0b82be",
   "metadata": {},
   "source": [
    "# Observation"
   ]
  },
  {
   "cell_type": "markdown",
   "id": "d294704e",
   "metadata": {},
   "source": [
    "1.DMC-BUI,DC-BUI,FWI-BUI are very high correlated."
   ]
  },
  {
   "cell_type": "markdown",
   "id": "ff54b775",
   "metadata": {},
   "source": [
    "2.FFMC-BUI,ISI-BUI,DC-ISI are high correlated"
   ]
  },
  {
   "cell_type": "markdown",
   "id": "df65764f",
   "metadata": {},
   "source": [
    "3.Range between 0.4 to 0.6 are moderate correlated"
   ]
  },
  {
   "cell_type": "markdown",
   "id": "40bd891d",
   "metadata": {},
   "source": [
    "4.correlation coefficients between 0.2 to 0.4 are less correlated"
   ]
  },
  {
   "cell_type": "markdown",
   "id": "c91927a7",
   "metadata": {},
   "source": [
    "5.correlation coefficients between 0 to .1 are negatively correlated"
   ]
  },
  {
   "cell_type": "markdown",
   "id": "3b9a49c4",
   "metadata": {},
   "source": [
    "# Boxplot to find outliers in the features"
   ]
  },
  {
   "cell_type": "code",
   "execution_count": 394,
   "id": "a38aa49b",
   "metadata": {},
   "outputs": [
    {
     "data": {
      "text/plain": [
       "<AxesSubplot:>"
      ]
     },
     "execution_count": 394,
     "metadata": {},
     "output_type": "execute_result"
    },
    {
     "data": {
      "image/png": "[encoded data removed]",
      "text/plain": [
       "<Figure size 1440x1080 with 1 Axes>"
      ]
     },
     "metadata": {
      "needs_background": "light"
     },
     "output_type": "display_data"
    }
   ],
   "source": [
    "\n",
    "from matplotlib import rcParams\n",
    "rcParams['figure.figsize']=20,15\n",
    "sns.boxplot(data=df)"
   ]
  },
  {
   "cell_type": "markdown",
   "id": "72f74037",
   "metadata": {},
   "source": [
    "Observation"
   ]
  },
  {
   "cell_type": "markdown",
   "id": "d4f23a51",
   "metadata": {},
   "source": [
    "* With the help of boxplot figure we can see that some outliers are present in data"
   ]
  },
  {
   "cell_type": "code",
   "execution_count": 395,
   "id": "6cf203d8",
   "metadata": {},
   "outputs": [
    {
     "data": {
      "text/plain": [
       "<AxesSubplot:xlabel='Classes', ylabel='Temperature'>"
      ]
     },
     "execution_count": 395,
     "metadata": {},
     "output_type": "execute_result"
    },
    {
     "data": {
      "image/png": "[encoded data removed]",
      "text/plain": [
       "<Figure size 1080x576 with 1 Axes>"
      ]
     },
     "metadata": {
      "needs_background": "light"
     },
     "output_type": "display_data"
    }
   ],
   "source": [
    "\n",
    "rcParams['figure.figsize']=15,8\n",
    "sns.boxplot(x='Classes',y='Temperature',data=df)"
   ]
  },
  {
   "cell_type": "code",
   "execution_count": 396,
   "id": "a65aceae",
   "metadata": {},
   "outputs": [
    {
     "data": {
      "text/plain": [
       "<AxesSubplot:xlabel='Classes', ylabel='Rain'>"
      ]
     },
     "execution_count": 396,
     "metadata": {},
     "output_type": "execute_result"
    },
    {
     "data": {
      "image/png": "[encoded data removed]",
      "text/plain": [
       "<Figure size 1080x576 with 1 Axes>"
      ]
     },
     "metadata": {
      "needs_background": "light"
     },
     "output_type": "display_data"
    }
   ],
   "source": [
    "\n",
    "from matplotlib import rcParams\n",
    "rcParams['figure.figsize']=15,8\n",
    "sns.boxplot(x='Classes',y='Rain',data=df)"
   ]
  },
  {
   "cell_type": "code",
   "execution_count": 397,
   "id": "21e49372",
   "metadata": {},
   "outputs": [
    {
     "data": {
      "image/png": "[encoded data removed]",
      "text/plain": [
       "<Figure size 1080x576 with 1 Axes>"
      ]
     },
     "metadata": {
      "needs_background": "light"
     },
     "output_type": "display_data"
    }
   ],
   "source": [
    "\n",
    "from matplotlib import rcParams\n",
    "rcParams['figure.figsize']=15,8\n",
    "p=sns.lineplot(x='Temperature',y='Rain',data=df)\n"
   ]
  },
  {
   "cell_type": "code",
   "execution_count": 398,
   "id": "abcb8fb8",
   "metadata": {},
   "outputs": [
    {
     "data": {
      "image/png": "[encoded data removed]",
      "text/plain": [
       "<Figure size 1080x576 with 1 Axes>"
      ]
     },
     "metadata": {
      "needs_background": "light"
     },
     "output_type": "display_data"
    }
   ],
   "source": [
    "rcParams['figure.figsize']=15,8\n",
    "p=sns.regplot(x='Temperature',y='Rain',data=df)"
   ]
  },
  {
   "cell_type": "markdown",
   "id": "55617cf9",
   "metadata": {},
   "source": [
    "# Splitting Training and Testing data"
   ]
  },
  {
   "cell_type": "code",
   "execution_count": 399,
   "id": "cae67bd1",
   "metadata": {},
   "outputs": [],
   "source": [
    "#independent and dependent features\n",
    "X=df.iloc[:,df.columns!='Temperature']\n",
    "y=df.iloc[:,2]"
   ]
  },
  {
   "cell_type": "code",
   "execution_count": 400,
   "id": "5735e41b",
   "metadata": {},
   "outputs": [
    {
     "data": {
      "text/plain": [
       "0      29\n",
       "1      29\n",
       "2      26\n",
       "3      25\n",
       "4      27\n",
       "       ..\n",
       "238    30\n",
       "239    28\n",
       "240    27\n",
       "241    24\n",
       "242    24\n",
       "Name: Temperature, Length: 243, dtype: int32"
      ]
     },
     "execution_count": 400,
     "metadata": {},
     "output_type": "execute_result"
    }
   ],
   "source": [
    "y"
   ]
  },
  {
   "cell_type": "code",
   "execution_count": 401,
   "id": "885f436f",
   "metadata": {},
   "outputs": [
    {
     "data": {
      "text/html": [
       "<div>\n",
       "<style scoped>\n",
       "    .dataframe tbody tr th:only-of-type {\n",
       "        vertical-align: middle;\n",
       "    }\n",
       "\n",
       "    .dataframe tbody tr th {\n",
       "        vertical-align: top;\n",
       "    }\n",
       "\n",
       "    .dataframe thead th {\n",
       "        text-align: right;\n",
       "    }\n",
       "</style>\n",
       "<table border=\"1\" class=\"dataframe\">\n",
       "  <thead>\n",
       "    <tr style=\"text-align: right;\">\n",
       "      <th></th>\n",
       "      <th>day</th>\n",
       "      <th>month</th>\n",
       "      <th>RH</th>\n",
       "      <th>Ws</th>\n",
       "      <th>Rain</th>\n",
       "      <th>FFMC</th>\n",
       "      <th>DMC</th>\n",
       "      <th>DC</th>\n",
       "      <th>ISI</th>\n",
       "      <th>BUI</th>\n",
       "      <th>FWI</th>\n",
       "      <th>Classes</th>\n",
       "      <th>Region</th>\n",
       "    </tr>\n",
       "  </thead>\n",
       "  <tbody>\n",
       "    <tr>\n",
       "      <th>0</th>\n",
       "      <td>1</td>\n",
       "      <td>6</td>\n",
       "      <td>57</td>\n",
       "      <td>18</td>\n",
       "      <td>0.0</td>\n",
       "      <td>65.7</td>\n",
       "      <td>3.4</td>\n",
       "      <td>7.6</td>\n",
       "      <td>1.3</td>\n",
       "      <td>3.4</td>\n",
       "      <td>0.5</td>\n",
       "      <td>1</td>\n",
       "      <td>1</td>\n",
       "    </tr>\n",
       "    <tr>\n",
       "      <th>1</th>\n",
       "      <td>2</td>\n",
       "      <td>6</td>\n",
       "      <td>61</td>\n",
       "      <td>13</td>\n",
       "      <td>1.3</td>\n",
       "      <td>64.4</td>\n",
       "      <td>4.1</td>\n",
       "      <td>7.6</td>\n",
       "      <td>1.0</td>\n",
       "      <td>3.9</td>\n",
       "      <td>0.4</td>\n",
       "      <td>1</td>\n",
       "      <td>1</td>\n",
       "    </tr>\n",
       "    <tr>\n",
       "      <th>2</th>\n",
       "      <td>3</td>\n",
       "      <td>6</td>\n",
       "      <td>82</td>\n",
       "      <td>22</td>\n",
       "      <td>13.1</td>\n",
       "      <td>47.1</td>\n",
       "      <td>2.5</td>\n",
       "      <td>7.1</td>\n",
       "      <td>0.3</td>\n",
       "      <td>2.7</td>\n",
       "      <td>0.1</td>\n",
       "      <td>1</td>\n",
       "      <td>1</td>\n",
       "    </tr>\n",
       "    <tr>\n",
       "      <th>3</th>\n",
       "      <td>4</td>\n",
       "      <td>6</td>\n",
       "      <td>89</td>\n",
       "      <td>13</td>\n",
       "      <td>2.5</td>\n",
       "      <td>28.6</td>\n",
       "      <td>1.3</td>\n",
       "      <td>6.9</td>\n",
       "      <td>0.0</td>\n",
       "      <td>1.7</td>\n",
       "      <td>0.0</td>\n",
       "      <td>1</td>\n",
       "      <td>1</td>\n",
       "    </tr>\n",
       "    <tr>\n",
       "      <th>4</th>\n",
       "      <td>5</td>\n",
       "      <td>6</td>\n",
       "      <td>77</td>\n",
       "      <td>16</td>\n",
       "      <td>0.0</td>\n",
       "      <td>64.8</td>\n",
       "      <td>3.0</td>\n",
       "      <td>14.2</td>\n",
       "      <td>1.2</td>\n",
       "      <td>3.9</td>\n",
       "      <td>0.5</td>\n",
       "      <td>1</td>\n",
       "      <td>1</td>\n",
       "    </tr>\n",
       "    <tr>\n",
       "      <th>...</th>\n",
       "      <td>...</td>\n",
       "      <td>...</td>\n",
       "      <td>...</td>\n",
       "      <td>...</td>\n",
       "      <td>...</td>\n",
       "      <td>...</td>\n",
       "      <td>...</td>\n",
       "      <td>...</td>\n",
       "      <td>...</td>\n",
       "      <td>...</td>\n",
       "      <td>...</td>\n",
       "      <td>...</td>\n",
       "      <td>...</td>\n",
       "    </tr>\n",
       "    <tr>\n",
       "      <th>238</th>\n",
       "      <td>26</td>\n",
       "      <td>9</td>\n",
       "      <td>65</td>\n",
       "      <td>14</td>\n",
       "      <td>0.0</td>\n",
       "      <td>85.4</td>\n",
       "      <td>16.0</td>\n",
       "      <td>44.5</td>\n",
       "      <td>4.5</td>\n",
       "      <td>16.9</td>\n",
       "      <td>6.5</td>\n",
       "      <td>0</td>\n",
       "      <td>2</td>\n",
       "    </tr>\n",
       "    <tr>\n",
       "      <th>239</th>\n",
       "      <td>27</td>\n",
       "      <td>9</td>\n",
       "      <td>87</td>\n",
       "      <td>15</td>\n",
       "      <td>4.4</td>\n",
       "      <td>41.1</td>\n",
       "      <td>6.5</td>\n",
       "      <td>8.0</td>\n",
       "      <td>0.1</td>\n",
       "      <td>6.2</td>\n",
       "      <td>0.0</td>\n",
       "      <td>1</td>\n",
       "      <td>2</td>\n",
       "    </tr>\n",
       "    <tr>\n",
       "      <th>240</th>\n",
       "      <td>28</td>\n",
       "      <td>9</td>\n",
       "      <td>87</td>\n",
       "      <td>29</td>\n",
       "      <td>0.5</td>\n",
       "      <td>45.9</td>\n",
       "      <td>3.5</td>\n",
       "      <td>7.9</td>\n",
       "      <td>0.4</td>\n",
       "      <td>3.4</td>\n",
       "      <td>0.2</td>\n",
       "      <td>1</td>\n",
       "      <td>2</td>\n",
       "    </tr>\n",
       "    <tr>\n",
       "      <th>241</th>\n",
       "      <td>29</td>\n",
       "      <td>9</td>\n",
       "      <td>54</td>\n",
       "      <td>18</td>\n",
       "      <td>0.1</td>\n",
       "      <td>79.7</td>\n",
       "      <td>4.3</td>\n",
       "      <td>15.2</td>\n",
       "      <td>1.7</td>\n",
       "      <td>5.1</td>\n",
       "      <td>0.7</td>\n",
       "      <td>1</td>\n",
       "      <td>2</td>\n",
       "    </tr>\n",
       "    <tr>\n",
       "      <th>242</th>\n",
       "      <td>30</td>\n",
       "      <td>9</td>\n",
       "      <td>64</td>\n",
       "      <td>15</td>\n",
       "      <td>0.2</td>\n",
       "      <td>67.3</td>\n",
       "      <td>3.8</td>\n",
       "      <td>16.5</td>\n",
       "      <td>1.2</td>\n",
       "      <td>4.8</td>\n",
       "      <td>0.5</td>\n",
       "      <td>1</td>\n",
       "      <td>2</td>\n",
       "    </tr>\n",
       "  </tbody>\n",
       "</table>\n",
       "<p>243 rows × 13 columns</p>\n",
       "</div>"
      ],
      "text/plain": [
       "     day  month  RH  Ws  Rain  FFMC   DMC    DC  ISI   BUI  FWI  Classes  \\\n",
       "0      1      6  57  18   0.0  65.7   3.4   7.6  1.3   3.4  0.5        1   \n",
       "1      2      6  61  13   1.3  64.4   4.1   7.6  1.0   3.9  0.4        1   \n",
       "2      3      6  82  22  13.1  47.1   2.5   7.1  0.3   2.7  0.1        1   \n",
       "3      4      6  89  13   2.5  28.6   1.3   6.9  0.0   1.7  0.0        1   \n",
       "4      5      6  77  16   0.0  64.8   3.0  14.2  1.2   3.9  0.5        1   \n",
       "..   ...    ...  ..  ..   ...   ...   ...   ...  ...   ...  ...      ...   \n",
       "238   26      9  65  14   0.0  85.4  16.0  44.5  4.5  16.9  6.5        0   \n",
       "239   27      9  87  15   4.4  41.1   6.5   8.0  0.1   6.2  0.0        1   \n",
       "240   28      9  87  29   0.5  45.9   3.5   7.9  0.4   3.4  0.2        1   \n",
       "241   29      9  54  18   0.1  79.7   4.3  15.2  1.7   5.1  0.7        1   \n",
       "242   30      9  64  15   0.2  67.3   3.8  16.5  1.2   4.8  0.5        1   \n",
       "\n",
       "     Region  \n",
       "0         1  \n",
       "1         1  \n",
       "2         1  \n",
       "3         1  \n",
       "4         1  \n",
       "..      ...  \n",
       "238       2  \n",
       "239       2  \n",
       "240       2  \n",
       "241       2  \n",
       "242       2  \n",
       "\n",
       "[243 rows x 13 columns]"
      ]
     },
     "execution_count": 401,
     "metadata": {},
     "output_type": "execute_result"
    }
   ],
   "source": [
    "X"
   ]
  },
  {
   "cell_type": "code",
   "execution_count": 402,
   "id": "131efe2f",
   "metadata": {},
   "outputs": [],
   "source": [
    "from sklearn.model_selection import train_test_split"
   ]
  },
  {
   "cell_type": "code",
   "execution_count": 403,
   "id": "0ac79180",
   "metadata": {},
   "outputs": [],
   "source": [
    "X_train,X_test,y_train,y_test=train_test_split(X,y,test_size=0.33,random_state=10)"
   ]
  },
  {
   "cell_type": "code",
   "execution_count": 404,
   "id": "8fec20f8",
   "metadata": {},
   "outputs": [
    {
     "data": {
      "text/html": [
       "<div>\n",
       "<style scoped>\n",
       "    .dataframe tbody tr th:only-of-type {\n",
       "        vertical-align: middle;\n",
       "    }\n",
       "\n",
       "    .dataframe tbody tr th {\n",
       "        vertical-align: top;\n",
       "    }\n",
       "\n",
       "    .dataframe thead th {\n",
       "        text-align: right;\n",
       "    }\n",
       "</style>\n",
       "<table border=\"1\" class=\"dataframe\">\n",
       "  <thead>\n",
       "    <tr style=\"text-align: right;\">\n",
       "      <th></th>\n",
       "      <th>day</th>\n",
       "      <th>month</th>\n",
       "      <th>RH</th>\n",
       "      <th>Ws</th>\n",
       "      <th>Rain</th>\n",
       "      <th>FFMC</th>\n",
       "      <th>DMC</th>\n",
       "      <th>DC</th>\n",
       "      <th>ISI</th>\n",
       "      <th>BUI</th>\n",
       "      <th>FWI</th>\n",
       "      <th>Classes</th>\n",
       "      <th>Region</th>\n",
       "    </tr>\n",
       "  </thead>\n",
       "  <tbody>\n",
       "    <tr>\n",
       "      <th>25</th>\n",
       "      <td>26</td>\n",
       "      <td>6</td>\n",
       "      <td>64</td>\n",
       "      <td>18</td>\n",
       "      <td>0.0</td>\n",
       "      <td>86.8</td>\n",
       "      <td>17.8</td>\n",
       "      <td>71.8</td>\n",
       "      <td>6.7</td>\n",
       "      <td>21.6</td>\n",
       "      <td>10.6</td>\n",
       "      <td>0</td>\n",
       "      <td>1</td>\n",
       "    </tr>\n",
       "    <tr>\n",
       "      <th>121</th>\n",
       "      <td>30</td>\n",
       "      <td>9</td>\n",
       "      <td>78</td>\n",
       "      <td>14</td>\n",
       "      <td>1.4</td>\n",
       "      <td>45.0</td>\n",
       "      <td>1.9</td>\n",
       "      <td>7.5</td>\n",
       "      <td>0.2</td>\n",
       "      <td>2.4</td>\n",
       "      <td>0.1</td>\n",
       "      <td>1</td>\n",
       "      <td>1</td>\n",
       "    </tr>\n",
       "    <tr>\n",
       "      <th>173</th>\n",
       "      <td>23</td>\n",
       "      <td>7</td>\n",
       "      <td>71</td>\n",
       "      <td>17</td>\n",
       "      <td>0.0</td>\n",
       "      <td>87.3</td>\n",
       "      <td>46.6</td>\n",
       "      <td>99.0</td>\n",
       "      <td>6.9</td>\n",
       "      <td>46.5</td>\n",
       "      <td>16.3</td>\n",
       "      <td>0</td>\n",
       "      <td>2</td>\n",
       "    </tr>\n",
       "    <tr>\n",
       "      <th>72</th>\n",
       "      <td>12</td>\n",
       "      <td>8</td>\n",
       "      <td>51</td>\n",
       "      <td>13</td>\n",
       "      <td>0.3</td>\n",
       "      <td>81.3</td>\n",
       "      <td>15.6</td>\n",
       "      <td>75.1</td>\n",
       "      <td>2.5</td>\n",
       "      <td>20.7</td>\n",
       "      <td>4.2</td>\n",
       "      <td>1</td>\n",
       "      <td>1</td>\n",
       "    </tr>\n",
       "    <tr>\n",
       "      <th>185</th>\n",
       "      <td>4</td>\n",
       "      <td>8</td>\n",
       "      <td>35</td>\n",
       "      <td>15</td>\n",
       "      <td>0.0</td>\n",
       "      <td>93.8</td>\n",
       "      <td>23.0</td>\n",
       "      <td>42.7</td>\n",
       "      <td>15.7</td>\n",
       "      <td>22.9</td>\n",
       "      <td>20.9</td>\n",
       "      <td>0</td>\n",
       "      <td>2</td>\n",
       "    </tr>\n",
       "  </tbody>\n",
       "</table>\n",
       "</div>"
      ],
      "text/plain": [
       "     day  month  RH  Ws  Rain  FFMC   DMC    DC   ISI   BUI   FWI  Classes  \\\n",
       "25    26      6  64  18   0.0  86.8  17.8  71.8   6.7  21.6  10.6        0   \n",
       "121   30      9  78  14   1.4  45.0   1.9   7.5   0.2   2.4   0.1        1   \n",
       "173   23      7  71  17   0.0  87.3  46.6  99.0   6.9  46.5  16.3        0   \n",
       "72    12      8  51  13   0.3  81.3  15.6  75.1   2.5  20.7   4.2        1   \n",
       "185    4      8  35  15   0.0  93.8  23.0  42.7  15.7  22.9  20.9        0   \n",
       "\n",
       "     Region  \n",
       "25        1  \n",
       "121       1  \n",
       "173       2  \n",
       "72        1  \n",
       "185       2  "
      ]
     },
     "execution_count": 404,
     "metadata": {},
     "output_type": "execute_result"
    }
   ],
   "source": [
    "X_train.head()"
   ]
  },
  {
   "cell_type": "code",
   "execution_count": 405,
   "id": "3edd9049",
   "metadata": {},
   "outputs": [
    {
     "data": {
      "text/plain": [
       "25     31\n",
       "121    25\n",
       "173    31\n",
       "72     35\n",
       "185    38\n",
       "       ..\n",
       "64     34\n",
       "15     29\n",
       "228    33\n",
       "125    30\n",
       "9      28\n",
       "Name: Temperature, Length: 162, dtype: int32"
      ]
     },
     "execution_count": 405,
     "metadata": {},
     "output_type": "execute_result"
    }
   ],
   "source": [
    "y_train"
   ]
  },
  {
   "cell_type": "code",
   "execution_count": 406,
   "id": "1b2a7af6",
   "metadata": {},
   "outputs": [
    {
     "data": {
      "text/plain": [
       "(162, 13)"
      ]
     },
     "execution_count": 406,
     "metadata": {},
     "output_type": "execute_result"
    }
   ],
   "source": [
    "X_train.shape"
   ]
  },
  {
   "cell_type": "code",
   "execution_count": 407,
   "id": "62923677",
   "metadata": {},
   "outputs": [
    {
     "data": {
      "text/plain": [
       "(162,)"
      ]
     },
     "execution_count": 407,
     "metadata": {},
     "output_type": "execute_result"
    }
   ],
   "source": [
    "y_train.shape"
   ]
  },
  {
   "cell_type": "code",
   "execution_count": 408,
   "id": "e5d917c7",
   "metadata": {},
   "outputs": [],
   "source": [
    "# Standardization or feature scaling the dataset\n",
    "from sklearn.preprocessing import StandardScaler\n",
    "scaler=StandardScaler()"
   ]
  },
  {
   "cell_type": "code",
   "execution_count": 409,
   "id": "e4e6dd7c",
   "metadata": {},
   "outputs": [],
   "source": [
    "X_train=scaler.fit_transform(X_train)"
   ]
  },
  {
   "cell_type": "code",
   "execution_count": 410,
   "id": "4813c372",
   "metadata": {},
   "outputs": [],
   "source": [
    "X_test=scaler.transform(X_test) #to avoid data leakage transformer"
   ]
  },
  {
   "cell_type": "code",
   "execution_count": 411,
   "id": "98594482",
   "metadata": {},
   "outputs": [
    {
     "data": {
      "text/plain": [
       "array([[ 1.30705791, -1.39305207,  0.06835876, ...,  0.52024214,\n",
       "        -0.90566259, -1.01242284],\n",
       "       [ 1.77217242,  1.29354835,  0.99672801, ..., -0.93452011,\n",
       "         1.10416397, -1.01242284],\n",
       "       [ 0.95822202, -0.4975186 ,  0.53254338, ...,  1.30997022,\n",
       "        -0.90566259,  0.9877296 ],\n",
       "       ...,\n",
       "       [ 0.14427163,  1.29354835, -2.45150064, ...,  1.72561657,\n",
       "        -0.90566259,  0.9877296 ],\n",
       "       [-1.2510719 , -1.39305207,  0.06835876, ..., -0.8098262 ,\n",
       "         1.10416397,  0.9877296 ],\n",
       "       [-0.55340014, -1.39305207,  1.0630401 , ..., -0.82368108,\n",
       "         1.10416397, -1.01242284]])"
      ]
     },
     "execution_count": 411,
     "metadata": {},
     "output_type": "execute_result"
    }
   ],
   "source": [
    "X_train"
   ]
  },
  {
   "cell_type": "code",
   "execution_count": 412,
   "id": "0c1bbdc0",
   "metadata": {},
   "outputs": [
    {
     "data": {
      "text/plain": [
       "array([[ 0.26055026, -0.4975186 ,  0.46623129, ..., -0.44959936,\n",
       "        -0.90566259, -1.01242284],\n",
       "       [-0.20456425,  1.29354835, -0.92632258, ...,  0.4786775 ,\n",
       "        -0.90566259,  0.9877296 ],\n",
       "       [ 1.77217242, -0.4975186 , -0.46213796, ...,  0.88046898,\n",
       "        -0.90566259,  0.9877296 ],\n",
       "       ...,\n",
       "       [ 1.30705791,  0.39801488, -1.72206765, ...,  3.24965322,\n",
       "        -0.90566259,  0.9877296 ],\n",
       "       [-0.43712151,  1.29354835,  0.93041592, ..., -0.90681035,\n",
       "         1.10416397, -1.01242284],\n",
       "       [ 0.37682889,  0.39801488, -0.59476213, ...,  1.28226046,\n",
       "        -0.90566259, -1.01242284]])"
      ]
     },
     "execution_count": 412,
     "metadata": {},
     "output_type": "execute_result"
    }
   ],
   "source": [
    "X_test"
   ]
  },
  {
   "cell_type": "markdown",
   "id": "6c0be184",
   "metadata": {},
   "source": [
    "# Model selection"
   ]
  },
  {
   "cell_type": "code",
   "execution_count": 413,
   "id": "e669255e",
   "metadata": {},
   "outputs": [],
   "source": [
    "from sklearn.linear_model import LinearRegression "
   ]
  },
  {
   "cell_type": "code",
   "execution_count": 414,
   "id": "fd3b06cb",
   "metadata": {},
   "outputs": [],
   "source": [
    "regression = LinearRegression()"
   ]
  },
  {
   "cell_type": "code",
   "execution_count": 415,
   "id": "3d2e980e",
   "metadata": {},
   "outputs": [
    {
     "data": {
      "text/plain": [
       "LinearRegression()"
      ]
     },
     "execution_count": 415,
     "metadata": {},
     "output_type": "execute_result"
    }
   ],
   "source": [
    "regression"
   ]
  },
  {
   "cell_type": "code",
   "execution_count": 416,
   "id": "00a488e6",
   "metadata": {},
   "outputs": [
    {
     "data": {
      "text/plain": [
       "LinearRegression()"
      ]
     },
     "execution_count": 416,
     "metadata": {},
     "output_type": "execute_result"
    }
   ],
   "source": [
    "regression.fit(X_train,y_train)"
   ]
  },
  {
   "cell_type": "code",
   "execution_count": 417,
   "id": "c46a873c",
   "metadata": {},
   "outputs": [
    {
     "name": "stdout",
     "output_type": "stream",
     "text": [
      "[-0.36077135 -0.2311454  -1.50045027 -0.70384333 -0.24625832  0.84766384\n",
      "  0.09164637  0.68596622  0.10380813  0.16594124 -0.38469383 -0.18553708\n",
      "  0.22661524]\n"
     ]
    }
   ],
   "source": [
    "#print the coefficient and intercept\n",
    "print(regression.coef_)"
   ]
  },
  {
   "cell_type": "code",
   "execution_count": 418,
   "id": "f8015ed6",
   "metadata": {},
   "outputs": [
    {
     "name": "stdout",
     "output_type": "stream",
     "text": [
      "32.074074074074076\n"
     ]
    }
   ],
   "source": [
    "print(regression.intercept_)"
   ]
  },
  {
   "cell_type": "code",
   "execution_count": 419,
   "id": "50a67ca5",
   "metadata": {},
   "outputs": [],
   "source": [
    "#prediction for test data\n",
    "reg_pred=regression.predict(X_test)"
   ]
  },
  {
   "cell_type": "code",
   "execution_count": 420,
   "id": "6cfac922",
   "metadata": {},
   "outputs": [
    {
     "data": {
      "text/plain": [
       "array([31.99493488, 33.12664016, 33.32629208, 24.7838569 , 29.2460991 ,\n",
       "       33.66799244, 31.64931814, 34.58818421, 31.79084174, 32.31038339,\n",
       "       33.54818002, 33.34754307, 35.78255767, 32.03424221, 34.27923643,\n",
       "       33.26037242, 26.52877687, 35.94057602, 33.33186761, 23.57110435,\n",
       "       32.36221708, 32.52712236, 33.06301323, 32.81955926, 29.903744  ,\n",
       "       32.73791527, 32.89973308, 32.14375238, 31.97567765, 34.09071758,\n",
       "       34.61315534, 33.87565689, 34.55720694, 32.78051614, 31.25884225,\n",
       "       28.73433642, 32.57424997, 31.67173881, 33.05658571, 34.00592683,\n",
       "       33.83451992, 35.61866932, 34.26998499, 37.40865649, 32.90557183,\n",
       "       36.49959526, 32.27373405, 35.35128002, 30.60009684, 31.10436839,\n",
       "       32.39267139, 39.0865001 , 32.75773646, 34.64063089, 27.20344681,\n",
       "       36.86613123, 33.83117207, 33.74796958, 28.98445209, 32.4738513 ,\n",
       "       32.52599845, 31.99902312, 24.8016617 , 36.29777696, 36.03327802,\n",
       "       28.94688288, 29.45302718, 29.37313652, 35.96924316, 28.45369633,\n",
       "       29.27601583, 32.21720179, 30.29726821, 30.93046457, 34.76079441,\n",
       "       32.8057019 , 35.40714492, 31.25361667, 36.9369251 , 26.90785041,\n",
       "       33.5503991 ])"
      ]
     },
     "execution_count": 420,
     "metadata": {},
     "output_type": "execute_result"
    }
   ],
   "source": [
    "reg_pred"
   ]
  },
  {
   "cell_type": "markdown",
   "id": "56015c6d",
   "metadata": {},
   "source": [
    "# Assumptions of linear regression"
   ]
  },
  {
   "cell_type": "code",
   "execution_count": 421,
   "id": "2d993a2b",
   "metadata": {},
   "outputs": [
    {
     "data": {
      "text/plain": [
       "Text(0, 0.5, 'Test Predict Data')"
      ]
     },
     "execution_count": 421,
     "metadata": {},
     "output_type": "execute_result"
    },
    {
     "data": {
      "image/png": "[encoded data removed]",
      "text/plain": [
       "<Figure size 1080x576 with 1 Axes>"
      ]
     },
     "metadata": {
      "needs_background": "light"
     },
     "output_type": "display_data"
    }
   ],
   "source": [
    "# relation between real and pred data\n",
    "plt.scatter(y_test,reg_pred)\n",
    "plt.xlabel('Test Truth Data')\n",
    "plt.ylabel('Test Predict Data')"
   ]
  },
  {
   "cell_type": "code",
   "execution_count": 422,
   "id": "b411d991",
   "metadata": {},
   "outputs": [],
   "source": [
    "#calculate residuals\n",
    "residual=y_test-reg_pred"
   ]
  },
  {
   "cell_type": "code",
   "execution_count": 423,
   "id": "940905ae",
   "metadata": {},
   "outputs": [
    {
     "data": {
      "text/plain": [
       "46    -2.994935\n",
       "225   -4.126640\n",
       "180    2.673708\n",
       "116    1.216143\n",
       "124   -0.246099\n",
       "         ...   \n",
       "127   -0.407145\n",
       "241   -7.253617\n",
       "207   -3.936925\n",
       "102    3.092150\n",
       "78     2.449601\n",
       "Name: Temperature, Length: 81, dtype: float64"
      ]
     },
     "execution_count": 423,
     "metadata": {},
     "output_type": "execute_result"
    }
   ],
   "source": [
    "residual"
   ]
  },
  {
   "cell_type": "code",
   "execution_count": 424,
   "id": "12015fac",
   "metadata": {},
   "outputs": [
    {
     "data": {
      "text/plain": [
       "<seaborn.axisgrid.FacetGrid at 0x1754bca84c0>"
      ]
     },
     "execution_count": 424,
     "metadata": {},
     "output_type": "execute_result"
    },
    {
     "data": {
      "image/png": "[encoded data removed]",
      "text/plain": [
       "<Figure size 360x360 with 1 Axes>"
      ]
     },
     "metadata": {
      "needs_background": "light"
     },
     "output_type": "display_data"
    }
   ],
   "source": [
    "sns.displot(residual,kind='kde')"
   ]
  },
  {
   "cell_type": "code",
   "execution_count": 425,
   "id": "206fd8a3",
   "metadata": {},
   "outputs": [
    {
     "data": {
      "text/plain": [
       "<matplotlib.collections.PathCollection at 0x1754c15d4f0>"
      ]
     },
     "execution_count": 425,
     "metadata": {},
     "output_type": "execute_result"
    },
    {
     "data": {
      "image/png": "[encoded data removed]",
      "text/plain": [
       "<Figure size 1080x576 with 1 Axes>"
      ]
     },
     "metadata": {
      "needs_background": "light"
     },
     "output_type": "display_data"
    }
   ],
   "source": [
    "plt.scatter(reg_pred,residual)"
   ]
  },
  {
   "cell_type": "markdown",
   "id": "ac2b8c27",
   "metadata": {},
   "source": [
    "# Performance metrics"
   ]
  },
  {
   "cell_type": "code",
   "execution_count": 426,
   "id": "92cf9dd1",
   "metadata": {},
   "outputs": [
    {
     "name": "stdout",
     "output_type": "stream",
     "text": [
      "7.7928584372969825\n",
      "2.1532259595595913\n",
      "2.7915691711467554\n"
     ]
    }
   ],
   "source": [
    "from sklearn.metrics import mean_squared_error,mean_absolute_error\n",
    "print(mean_squared_error(y_test,reg_pred))\n",
    "print(mean_absolute_error(y_test,reg_pred))\n",
    "print(np.sqrt(mean_squared_error(y_test,reg_pred)))"
   ]
  },
  {
   "cell_type": "code",
   "execution_count": 427,
   "id": "0c4bfb52",
   "metadata": {},
   "outputs": [
    {
     "name": "stdout",
     "output_type": "stream",
     "text": [
      "0.4370546969181548\n"
     ]
    }
   ],
   "source": [
    "from sklearn.metrics import r2_score\n",
    "score=r2_score(y_test,reg_pred)\n",
    "print(score)"
   ]
  },
  {
   "cell_type": "code",
   "execution_count": 428,
   "id": "5653a181",
   "metadata": {},
   "outputs": [
    {
     "name": "stdout",
     "output_type": "stream",
     "text": [
      "0.4050971032934212\n"
     ]
    }
   ],
   "source": [
    "## Adjusted R2 need to write \n",
    "adjR=1-(1-score)*(len(y)-1)/(len(y)-X.shape[1]-1)\n",
    "print(adjR)"
   ]
  },
  {
   "cell_type": "markdown",
   "id": "f3f9c285",
   "metadata": {},
   "source": [
    "# Ridge regression "
   ]
  },
  {
   "cell_type": "code",
   "execution_count": 429,
   "id": "8277cf63",
   "metadata": {},
   "outputs": [],
   "source": [
    "from sklearn.linear_model import Ridge"
   ]
  },
  {
   "cell_type": "code",
   "execution_count": 430,
   "id": "8d8ce734",
   "metadata": {},
   "outputs": [],
   "source": [
    "ridge_reg=Ridge(alpha=1.0)"
   ]
  },
  {
   "cell_type": "code",
   "execution_count": 431,
   "id": "dbe971d7",
   "metadata": {},
   "outputs": [
    {
     "data": {
      "text/plain": [
       "Ridge()"
      ]
     },
     "execution_count": 431,
     "metadata": {},
     "output_type": "execute_result"
    }
   ],
   "source": [
    "ridge_reg"
   ]
  },
  {
   "cell_type": "code",
   "execution_count": 432,
   "id": "2d85b0df",
   "metadata": {},
   "outputs": [
    {
     "data": {
      "text/plain": [
       "Ridge()"
      ]
     },
     "execution_count": 432,
     "metadata": {},
     "output_type": "execute_result"
    }
   ],
   "source": [
    "ridge_reg.fit(X_train,y_train)"
   ]
  },
  {
   "cell_type": "code",
   "execution_count": 433,
   "id": "1e27afd8",
   "metadata": {},
   "outputs": [
    {
     "name": "stdout",
     "output_type": "stream",
     "text": [
      "[-0.35498915 -0.22833494 -1.48029097 -0.70374866 -0.24661714  0.85405124\n",
      "  0.08174868  0.64566072  0.07203342  0.17636996 -0.314502   -0.17870778\n",
      "  0.22535392]\n"
     ]
    }
   ],
   "source": [
    "print(ridge_reg.coef_)"
   ]
  },
  {
   "cell_type": "code",
   "execution_count": 434,
   "id": "c4201ae4",
   "metadata": {},
   "outputs": [
    {
     "name": "stdout",
     "output_type": "stream",
     "text": [
      "32.074074074074076\n"
     ]
    }
   ],
   "source": [
    "print(ridge_reg.intercept_)"
   ]
  },
  {
   "cell_type": "code",
   "execution_count": 435,
   "id": "4b615b7d",
   "metadata": {},
   "outputs": [
    {
     "data": {
      "text/plain": [
       "array([31.99412337, 33.12040196, 33.34904202, 24.81531826, 29.25317586,\n",
       "       33.68676155, 31.63059048, 34.61400469, 31.81080916, 32.30710445,\n",
       "       33.54409223, 33.34199846, 35.75695644, 32.03039126, 34.196428  ,\n",
       "       33.27080718, 26.56260115, 35.93359951, 33.31573076, 23.60085512,\n",
       "       32.31428709, 32.51199227, 33.06509029, 32.82454574, 29.89856284,\n",
       "       32.75584864, 32.90298721, 32.1343128 , 31.97312855, 34.06519694,\n",
       "       34.59717106, 33.86491378, 34.5259007 , 32.78015204, 31.23264081,\n",
       "       28.7431667 , 32.55777417, 31.67069931, 33.05264996, 33.9776409 ,\n",
       "       33.85967669, 35.60302534, 34.26796346, 37.35281757, 32.90360982,\n",
       "       36.53560291, 32.26187897, 35.34292679, 30.59554534, 31.10728523,\n",
       "       32.39611356, 39.09427765, 32.7429986 , 34.63335351, 27.23033441,\n",
       "       36.89104824, 33.84982341, 33.71470698, 29.01228005, 32.45261276,\n",
       "       32.52613462, 31.98628733, 24.81143025, 36.32031857, 36.06254441,\n",
       "       28.98050626, 29.42546164, 29.37614081, 35.99109657, 28.46194337,\n",
       "       29.30529087, 32.22528184, 30.30676114, 30.93598706, 34.76967945,\n",
       "       32.82275712, 35.37475572, 31.25349235, 36.97010006, 26.92609135,\n",
       "       33.54489491])"
      ]
     },
     "execution_count": 435,
     "metadata": {},
     "output_type": "execute_result"
    }
   ],
   "source": [
    "rid_pred=ridge_reg.predict(X_test)\n",
    "rid_pred"
   ]
  },
  {
   "cell_type": "code",
   "execution_count": 436,
   "id": "1e37153b",
   "metadata": {},
   "outputs": [
    {
     "data": {
      "text/plain": [
       "Text(0, 0.5, 'Test Predict Data')"
      ]
     },
     "execution_count": 436,
     "metadata": {},
     "output_type": "execute_result"
    },
    {
     "data": {
      "image/png": "[encoded data removed]",
      "text/plain": [
       "<Figure size 1080x576 with 1 Axes>"
      ]
     },
     "metadata": {
      "needs_background": "light"
     },
     "output_type": "display_data"
    }
   ],
   "source": [
    "#reation between real and predict data\n",
    "plt.scatter(y_test,rid_pred)\n",
    "plt.xlabel('Test Truth Data')\n",
    "plt.ylabel('Test Predict Data')"
   ]
  },
  {
   "cell_type": "code",
   "execution_count": 437,
   "id": "274eb5fc",
   "metadata": {},
   "outputs": [],
   "source": [
    "#calculate residuals\n",
    "residual=y_test-rid_pred"
   ]
  },
  {
   "cell_type": "code",
   "execution_count": 438,
   "id": "0fc3fa1f",
   "metadata": {},
   "outputs": [
    {
     "data": {
      "text/plain": [
       "46    -2.994123\n",
       "225   -4.120402\n",
       "180    2.650958\n",
       "116    1.184682\n",
       "124   -0.253176\n",
       "         ...   \n",
       "127   -0.374756\n",
       "241   -7.253492\n",
       "207   -3.970100\n",
       "102    3.073909\n",
       "78     2.455105\n",
       "Name: Temperature, Length: 81, dtype: float64"
      ]
     },
     "execution_count": 438,
     "metadata": {},
     "output_type": "execute_result"
    }
   ],
   "source": [
    "residual"
   ]
  },
  {
   "cell_type": "code",
   "execution_count": 439,
   "id": "041b7754",
   "metadata": {},
   "outputs": [
    {
     "data": {
      "text/plain": [
       "<seaborn.axisgrid.FacetGrid at 0x1754c1e44c0>"
      ]
     },
     "execution_count": 439,
     "metadata": {},
     "output_type": "execute_result"
    },
    {
     "data": {
      "image/png": "[encoded data removed]",
      "text/plain": [
       "<Figure size 360x360 with 1 Axes>"
      ]
     },
     "metadata": {
      "needs_background": "light"
     },
     "output_type": "display_data"
    }
   ],
   "source": [
    "sns.displot(residual,kind='kde')"
   ]
  },
  {
   "cell_type": "code",
   "execution_count": 440,
   "id": "8e994ccd",
   "metadata": {},
   "outputs": [
    {
     "data": {
      "text/plain": [
       "<matplotlib.collections.PathCollection at 0x1754d808a60>"
      ]
     },
     "execution_count": 440,
     "metadata": {},
     "output_type": "execute_result"
    },
    {
     "data": {
      "image/png": "[encoded data removed]",
      "text/plain": [
       "<Figure size 1080x576 with 1 Axes>"
      ]
     },
     "metadata": {
      "needs_background": "light"
     },
     "output_type": "display_data"
    }
   ],
   "source": [
    "plt.scatter(rid_pred,residual)"
   ]
  },
  {
   "cell_type": "markdown",
   "id": "292428ea",
   "metadata": {},
   "source": [
    "# Performance metrics"
   ]
  },
  {
   "cell_type": "code",
   "execution_count": 441,
   "id": "48b32255",
   "metadata": {},
   "outputs": [
    {
     "name": "stdout",
     "output_type": "stream",
     "text": [
      "7.770134748047858\n",
      "2.151505587243574\n",
      "2.7874961431449297\n"
     ]
    }
   ],
   "source": [
    "from sklearn.metrics import mean_squared_error,mean_absolute_error\n",
    "print(mean_squared_error(y_test,rid_pred))\n",
    "print(mean_absolute_error(y_test,rid_pred))\n",
    "print(np.sqrt(mean_squared_error(y_test,rid_pred)))"
   ]
  },
  {
   "cell_type": "code",
   "execution_count": 442,
   "id": "9aae0b0e",
   "metadata": {},
   "outputs": [
    {
     "name": "stdout",
     "output_type": "stream",
     "text": [
      "0.438696224765018\n"
     ]
    }
   ],
   "source": [
    "from sklearn.metrics import r2_score\n",
    "score=r2_score(y_test,rid_pred)\n",
    "print(score)"
   ]
  },
  {
   "cell_type": "code",
   "execution_count": 443,
   "id": "7ecf7ca2",
   "metadata": {},
   "outputs": [
    {
     "name": "stdout",
     "output_type": "stream",
     "text": [
      "0.4068318183106303\n"
     ]
    }
   ],
   "source": [
    "## Adjusted R2 need to write \n",
    "adjR=1-(1-score)*(len(y)-1)/(len(y)-X.shape[1]-1)\n",
    "print(adjR)"
   ]
  },
  {
   "cell_type": "markdown",
   "id": "e16e087b",
   "metadata": {},
   "source": [
    "# Lasso regression "
   ]
  },
  {
   "cell_type": "code",
   "execution_count": 444,
   "id": "9a1b7453",
   "metadata": {},
   "outputs": [],
   "source": [
    "from sklearn.linear_model import Lasso"
   ]
  },
  {
   "cell_type": "code",
   "execution_count": 445,
   "id": "1a4097ee",
   "metadata": {},
   "outputs": [],
   "source": [
    "lasso=Lasso(alpha=0.1)"
   ]
  },
  {
   "cell_type": "code",
   "execution_count": 446,
   "id": "a3f30f38",
   "metadata": {},
   "outputs": [
    {
     "data": {
      "text/plain": [
       "Lasso(alpha=0.1)"
      ]
     },
     "execution_count": 446,
     "metadata": {},
     "output_type": "execute_result"
    }
   ],
   "source": [
    "lasso.fit(X_train,y_train)"
   ]
  },
  {
   "cell_type": "code",
   "execution_count": 447,
   "id": "d4038a62",
   "metadata": {},
   "outputs": [
    {
     "name": "stdout",
     "output_type": "stream",
     "text": [
      "[-0.105944   -0.0832839  -1.37409593 -0.63447767 -0.1567129   1.00625551\n",
      "  0.14183148  0.32399062  0.          0.          0.         -0.05456468\n",
      "  0.10290589]\n"
     ]
    }
   ],
   "source": [
    "print(lasso.coef_)"
   ]
  },
  {
   "cell_type": "code",
   "execution_count": 448,
   "id": "5b79ee2f",
   "metadata": {},
   "outputs": [
    {
     "name": "stdout",
     "output_type": "stream",
     "text": [
      "32.074074074074076\n"
     ]
    }
   ],
   "source": [
    "print(lasso.intercept_)"
   ]
  },
  {
   "cell_type": "code",
   "execution_count": 449,
   "id": "0a8204f9",
   "metadata": {},
   "outputs": [],
   "source": [
    "Ls_pred=lasso.predict(X_test)"
   ]
  },
  {
   "cell_type": "code",
   "execution_count": 450,
   "id": "b20a3c41",
   "metadata": {},
   "outputs": [
    {
     "data": {
      "text/plain": [
       "Text(0, 0.5, 'Test Predict Data')"
      ]
     },
     "execution_count": 450,
     "metadata": {},
     "output_type": "execute_result"
    },
    {
     "data": {
      "image/png": "[encoded data removed]",
      "text/plain": [
       "<Figure size 1080x576 with 1 Axes>"
      ]
     },
     "metadata": {
      "needs_background": "light"
     },
     "output_type": "display_data"
    }
   ],
   "source": [
    "#reation between real and predict data\n",
    "plt.scatter(y_test,Ls_pred)\n",
    "plt.xlabel('Test Truth Data')\n",
    "plt.ylabel('Test Predict Data')"
   ]
  },
  {
   "cell_type": "code",
   "execution_count": 451,
   "id": "5c0f16af",
   "metadata": {},
   "outputs": [],
   "source": [
    "#calculate residuals\n",
    "residual=y_test-Ls_pred"
   ]
  },
  {
   "cell_type": "code",
   "execution_count": 452,
   "id": "cc30938c",
   "metadata": {},
   "outputs": [
    {
     "data": {
      "text/plain": [
       "46    -3.049143\n",
       "225   -4.302261\n",
       "180    2.362682\n",
       "116    0.022311\n",
       "124    0.240150\n",
       "         ...   \n",
       "127    0.388053\n",
       "241   -7.962346\n",
       "207   -3.764752\n",
       "102    2.464306\n",
       "78     2.427680\n",
       "Name: Temperature, Length: 81, dtype: float64"
      ]
     },
     "execution_count": 452,
     "metadata": {},
     "output_type": "execute_result"
    }
   ],
   "source": [
    "residual"
   ]
  },
  {
   "cell_type": "code",
   "execution_count": 453,
   "id": "1e82f1f9",
   "metadata": {},
   "outputs": [
    {
     "data": {
      "text/plain": [
       "<seaborn.axisgrid.FacetGrid at 0x1754c193670>"
      ]
     },
     "execution_count": 453,
     "metadata": {},
     "output_type": "execute_result"
    },
    {
     "data": {
      "image/png": "[encoded data removed]",
      "text/plain": [
       "<Figure size 360x360 with 1 Axes>"
      ]
     },
     "metadata": {
      "needs_background": "light"
     },
     "output_type": "display_data"
    }
   ],
   "source": [
    "sns.displot(residual,kind='kde')"
   ]
  },
  {
   "cell_type": "code",
   "execution_count": 454,
   "id": "588ad078",
   "metadata": {},
   "outputs": [
    {
     "data": {
      "text/plain": [
       "<matplotlib.collections.PathCollection at 0x1754e194a90>"
      ]
     },
     "execution_count": 454,
     "metadata": {},
     "output_type": "execute_result"
    },
    {
     "data": {
      "image/png": "[encoded data removed]",
      "text/plain": [
       "<Figure size 1080x576 with 1 Axes>"
      ]
     },
     "metadata": {
      "needs_background": "light"
     },
     "output_type": "display_data"
    }
   ],
   "source": [
    "plt.scatter(Ls_pred,residual)"
   ]
  },
  {
   "cell_type": "markdown",
   "id": "9f82b1df",
   "metadata": {},
   "source": [
    "# Performance metrics"
   ]
  },
  {
   "cell_type": "code",
   "execution_count": 455,
   "id": "39f4fb6e",
   "metadata": {},
   "outputs": [
    {
     "name": "stdout",
     "output_type": "stream",
     "text": [
      "7.615413002358264\n",
      "2.1317374993041036\n",
      "2.759603776334252\n"
     ]
    }
   ],
   "source": [
    "from sklearn.metrics import mean_squared_error,mean_absolute_error\n",
    "print(mean_squared_error(y_test,Ls_pred))\n",
    "print(mean_absolute_error(y_test,Ls_pred))\n",
    "print(np.sqrt(mean_squared_error(y_test,Ls_pred)))"
   ]
  },
  {
   "cell_type": "code",
   "execution_count": 456,
   "id": "d5cb5440",
   "metadata": {},
   "outputs": [
    {
     "name": "stdout",
     "output_type": "stream",
     "text": [
      "0.4498731094372349\n"
     ]
    }
   ],
   "source": [
    "from sklearn.metrics import r2_score\n",
    "score=r2_score(y_test,Ls_pred)\n",
    "print(score)"
   ]
  },
  {
   "cell_type": "code",
   "execution_count": 457,
   "id": "907ff897",
   "metadata": {},
   "outputs": [
    {
     "name": "stdout",
     "output_type": "stream",
     "text": [
      "0.41864319861926136\n"
     ]
    }
   ],
   "source": [
    "## Adjusted R2 need to write \n",
    "adjR=1-(1-score)*(len(y)-1)/(len(y)-X.shape[1]-1)\n",
    "print(adjR)"
   ]
  },
  {
   "cell_type": "markdown",
   "id": "4a0dce28",
   "metadata": {},
   "source": [
    "# Elastic net"
   ]
  },
  {
   "cell_type": "code",
   "execution_count": 458,
   "id": "e443001c",
   "metadata": {},
   "outputs": [],
   "source": [
    "from sklearn.linear_model import ElasticNet"
   ]
  },
  {
   "cell_type": "code",
   "execution_count": 459,
   "id": "9d092a06",
   "metadata": {},
   "outputs": [],
   "source": [
    "el_reg=ElasticNet()"
   ]
  },
  {
   "cell_type": "code",
   "execution_count": 460,
   "id": "67ff93bf",
   "metadata": {},
   "outputs": [
    {
     "data": {
      "text/plain": [
       "ElasticNet()"
      ]
     },
     "execution_count": 460,
     "metadata": {},
     "output_type": "execute_result"
    }
   ],
   "source": [
    "el_reg.fit(X_train,y_train)"
   ]
  },
  {
   "cell_type": "code",
   "execution_count": 461,
   "id": "0e040f3d",
   "metadata": {},
   "outputs": [
    {
     "name": "stdout",
     "output_type": "stream",
     "text": [
      "[ 0.         -0.         -0.7730265  -0.26945253 -0.02396636  0.67644044\n",
      "  0.10592038  0.          0.18367796  0.03890539  0.10736141 -0.12263291\n",
      "  0.        ]\n"
     ]
    }
   ],
   "source": [
    "print(el_reg.coef_)"
   ]
  },
  {
   "cell_type": "code",
   "execution_count": 462,
   "id": "632bc2d6",
   "metadata": {},
   "outputs": [
    {
     "name": "stdout",
     "output_type": "stream",
     "text": [
      "32.074074074074076\n"
     ]
    }
   ],
   "source": [
    "print(el_reg.intercept_)"
   ]
  },
  {
   "cell_type": "code",
   "execution_count": 463,
   "id": "8e5835eb",
   "metadata": {},
   "outputs": [],
   "source": [
    "el_pred=el_reg.predict(X_test)"
   ]
  },
  {
   "cell_type": "code",
   "execution_count": 464,
   "id": "118c20e7",
   "metadata": {},
   "outputs": [
    {
     "data": {
      "text/plain": [
       "Text(0, 0.5, 'Test Predict Data')"
      ]
     },
     "execution_count": 464,
     "metadata": {},
     "output_type": "execute_result"
    },
    {
     "data": {
      "image/png": "[encoded data removed]",
      "text/plain": [
       "<Figure size 1080x576 with 1 Axes>"
      ]
     },
     "metadata": {
      "needs_background": "light"
     },
     "output_type": "display_data"
    }
   ],
   "source": [
    "#reation between real and predict data\n",
    "plt.scatter(y_test,el_pred)\n",
    "plt.xlabel('Test Truth Data')\n",
    "plt.ylabel('Test Predict Data')"
   ]
  },
  {
   "cell_type": "code",
   "execution_count": 465,
   "id": "566fb8ed",
   "metadata": {},
   "outputs": [],
   "source": [
    "#calculate residuals\n",
    "residual=y_test-el_pred"
   ]
  },
  {
   "cell_type": "code",
   "execution_count": 466,
   "id": "cd6b0204",
   "metadata": {},
   "outputs": [
    {
     "data": {
      "text/plain": [
       "<seaborn.axisgrid.FacetGrid at 0x1754e21c6d0>"
      ]
     },
     "execution_count": 466,
     "metadata": {},
     "output_type": "execute_result"
    },
    {
     "data": {
      "image/png": "[encoded data removed]",
      "text/plain": [
       "<Figure size 360x360 with 1 Axes>"
      ]
     },
     "metadata": {
      "needs_background": "light"
     },
     "output_type": "display_data"
    }
   ],
   "source": [
    "sns.displot(residual,kind='kde')"
   ]
  },
  {
   "cell_type": "code",
   "execution_count": 467,
   "id": "a31b551b",
   "metadata": {},
   "outputs": [
    {
     "data": {
      "text/plain": [
       "<matplotlib.collections.PathCollection at 0x1754e61b9a0>"
      ]
     },
     "execution_count": 467,
     "metadata": {},
     "output_type": "execute_result"
    },
    {
     "data": {
      "image/png": "[encoded data removed]",
      "text/plain": [
       "<Figure size 1080x576 with 1 Axes>"
      ]
     },
     "metadata": {
      "needs_background": "light"
     },
     "output_type": "display_data"
    }
   ],
   "source": [
    "plt.scatter(el_pred,residual)"
   ]
  },
  {
   "cell_type": "markdown",
   "id": "94f8af61",
   "metadata": {},
   "source": [
    "# Performance metrics"
   ]
  },
  {
   "cell_type": "code",
   "execution_count": 468,
   "id": "82d68cc9",
   "metadata": {},
   "outputs": [
    {
     "name": "stdout",
     "output_type": "stream",
     "text": [
      "7.915513754032116\n",
      "2.286670095063569\n",
      "2.8134522839444274\n"
     ]
    }
   ],
   "source": [
    "from sklearn.metrics import mean_squared_error,mean_absolute_error\n",
    "print(mean_squared_error(y_test,el_pred))\n",
    "print(mean_absolute_error(y_test,el_pred))\n",
    "print(np.sqrt(mean_squared_error(y_test,el_pred)))"
   ]
  },
  {
   "cell_type": "code",
   "execution_count": 469,
   "id": "3ec9188f",
   "metadata": {},
   "outputs": [
    {
     "name": "stdout",
     "output_type": "stream",
     "text": [
      "0.4281942466726337\n"
     ]
    }
   ],
   "source": [
    "from sklearn.metrics import r2_score\n",
    "score=r2_score(y_test,el_pred)\n",
    "print(score)"
   ]
  },
  {
   "cell_type": "code",
   "execution_count": 470,
   "id": "04539445",
   "metadata": {},
   "outputs": [
    {
     "name": "stdout",
     "output_type": "stream",
     "text": [
      "0.3957336580557963\n"
     ]
    }
   ],
   "source": [
    "## Adjusted R2 need to write \n",
    "adjR=1-(1-score)*(len(y)-1)/(len(y)-X.shape[1]-1)\n",
    "print(adjR)"
   ]
  },
  {
   "cell_type": "code",
   "execution_count": null,
   "id": "2a504996",
   "metadata": {},
   "outputs": [],
   "source": []
  },
  {
   "cell_type": "code",
   "execution_count": null,
   "id": "6e55ce81",
   "metadata": {},
   "outputs": [],
   "source": []
  },
  {
   "cell_type": "code",
   "execution_count": null,
   "id": "9f64227f",
   "metadata": {},
   "outputs": [],
   "source": []
  },
  {
   "cell_type": "code",
   "execution_count": null,
   "id": "88fe02d6",
   "metadata": {},
   "outputs": [],
   "source": []
  }
 ],
 "metadata": {
  "kernelspec": {
   "display_name": "Python 3 (ipykernel)",
   "language": "python",
   "name": "python3"
  },
  "language_info": {
   "codemirror_mode": {
    "name": "ipython",
    "version": 3
   },
   "file_extension": ".py",
   "mimetype": "text/x-python",
   "name": "python",
   "nbconvert_exporter": "python",
   "pygments_lexer": "ipython3",
   "version": "3.9.12"
  }
 },
 "nbformat": 4,
 "nbformat_minor": 5
}
